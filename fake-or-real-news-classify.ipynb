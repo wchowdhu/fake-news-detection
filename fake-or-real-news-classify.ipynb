{
 "cells": [
  {
   "cell_type": "markdown",
   "id": "9e55e283",
   "metadata": {
    "papermill": {
     "duration": 0.070258,
     "end_time": "2022-05-01T19:48:52.363194",
     "exception": false,
     "start_time": "2022-05-01T19:48:52.292936",
     "status": "completed"
    },
    "tags": []
   },
   "source": [
    "The notebook details how to implement a machine learning model able to determine if an article is fake news or not. \n",
    "\n",
    "Covers exploratory data analysis, modeling, training, and evaluating model performance"
   ]
  },
  {
   "cell_type": "markdown",
   "id": "a026297e",
   "metadata": {
    "papermill": {
     "duration": 0.043796,
     "end_time": "2022-05-01T19:48:52.463119",
     "exception": false,
     "start_time": "2022-05-01T19:48:52.419323",
     "status": "completed"
    },
    "tags": []
   },
   "source": [
    "## Import Necessary Libraries"
   ]
  },
  {
   "cell_type": "code",
   "execution_count": 1,
   "id": "7ad60572",
   "metadata": {
    "execution": {
     "iopub.execute_input": "2022-05-01T19:48:52.556490Z",
     "iopub.status.busy": "2022-05-01T19:48:52.555860Z",
     "iopub.status.idle": "2022-05-01T19:48:59.280412Z",
     "shell.execute_reply": "2022-05-01T19:48:59.279810Z",
     "shell.execute_reply.started": "2022-04-17T08:44:56.948087Z"
    },
    "papermill": {
     "duration": 6.776675,
     "end_time": "2022-05-01T19:48:59.280568",
     "exception": false,
     "start_time": "2022-05-01T19:48:52.503893",
     "status": "completed"
    },
    "tags": []
   },
   "outputs": [],
   "source": [
    "import pandas as pd\n",
    "import numpy as np\n",
    "import os\n",
    "import matplotlib.pyplot as plt\n",
    "from sklearn.model_selection import train_test_split\n",
    "from transformers import BertTokenizer\n",
    "import torch\n",
    "from torch.utils.data import TensorDataset, DataLoader, SequentialSampler, RandomSampler\n",
    "from transformers import BertForSequenceClassification, DistilBertTokenizer, DistilBertForSequenceClassification, AdamW, get_linear_schedule_with_warmup\n",
    "from tqdm.notebook import trange\n",
    "from sklearn import metrics\n",
    "from sklearn.metrics import classification_report, accuracy_score, roc_auc_score"
   ]
  },
  {
   "cell_type": "markdown",
   "id": "8019853a",
   "metadata": {
    "papermill": {
     "duration": 0.04178,
     "end_time": "2022-05-01T19:48:59.365550",
     "exception": false,
     "start_time": "2022-05-01T19:48:59.323770",
     "status": "completed"
    },
    "tags": []
   },
   "source": [
    "## Analyze the Dataset"
   ]
  },
  {
   "cell_type": "code",
   "execution_count": 2,
   "id": "da9bd143",
   "metadata": {
    "execution": {
     "iopub.execute_input": "2022-05-01T19:48:59.466743Z",
     "iopub.status.busy": "2022-05-01T19:48:59.466079Z",
     "iopub.status.idle": "2022-05-01T19:49:01.769596Z",
     "shell.execute_reply": "2022-05-01T19:49:01.769135Z",
     "shell.execute_reply.started": "2022-04-17T08:45:03.814045Z"
    },
    "papermill": {
     "duration": 2.356573,
     "end_time": "2022-05-01T19:49:01.769754",
     "exception": false,
     "start_time": "2022-05-01T19:48:59.413181",
     "status": "completed"
    },
    "tags": []
   },
   "outputs": [],
   "source": [
    "fake_df = pd.read_csv(\"../input/fake-and-real-news-dataset/Fake.csv\")\n",
    "true_df = pd.read_csv(\"../input/fake-and-real-news-dataset/True.csv\")"
   ]
  },
  {
   "cell_type": "markdown",
   "id": "1ded86f9",
   "metadata": {
    "papermill": {
     "duration": 0.040712,
     "end_time": "2022-05-01T19:49:01.852310",
     "exception": false,
     "start_time": "2022-05-01T19:49:01.811598",
     "status": "completed"
    },
    "tags": []
   },
   "source": [
    "Look at some of the fake articles"
   ]
  },
  {
   "cell_type": "code",
   "execution_count": 3,
   "id": "0c3d76cb",
   "metadata": {
    "execution": {
     "iopub.execute_input": "2022-05-01T19:49:01.951838Z",
     "iopub.status.busy": "2022-05-01T19:49:01.951135Z",
     "iopub.status.idle": "2022-05-01T19:49:01.963439Z",
     "shell.execute_reply": "2022-05-01T19:49:01.963864Z",
     "shell.execute_reply.started": "2022-04-17T08:45:06.017629Z"
    },
    "papermill": {
     "duration": 0.061469,
     "end_time": "2022-05-01T19:49:01.964013",
     "exception": false,
     "start_time": "2022-05-01T19:49:01.902544",
     "status": "completed"
    },
    "tags": []
   },
   "outputs": [
    {
     "data": {
      "text/html": [
       "<div>\n",
       "<style scoped>\n",
       "    .dataframe tbody tr th:only-of-type {\n",
       "        vertical-align: middle;\n",
       "    }\n",
       "\n",
       "    .dataframe tbody tr th {\n",
       "        vertical-align: top;\n",
       "    }\n",
       "\n",
       "    .dataframe thead th {\n",
       "        text-align: right;\n",
       "    }\n",
       "</style>\n",
       "<table border=\"1\" class=\"dataframe\">\n",
       "  <thead>\n",
       "    <tr style=\"text-align: right;\">\n",
       "      <th></th>\n",
       "      <th>title</th>\n",
       "      <th>text</th>\n",
       "      <th>subject</th>\n",
       "      <th>date</th>\n",
       "    </tr>\n",
       "  </thead>\n",
       "  <tbody>\n",
       "    <tr>\n",
       "      <th>0</th>\n",
       "      <td>Donald Trump Sends Out Embarrassing New Year’...</td>\n",
       "      <td>Donald Trump just couldn t wish all Americans ...</td>\n",
       "      <td>News</td>\n",
       "      <td>December 31, 2017</td>\n",
       "    </tr>\n",
       "    <tr>\n",
       "      <th>1</th>\n",
       "      <td>Drunk Bragging Trump Staffer Started Russian ...</td>\n",
       "      <td>House Intelligence Committee Chairman Devin Nu...</td>\n",
       "      <td>News</td>\n",
       "      <td>December 31, 2017</td>\n",
       "    </tr>\n",
       "    <tr>\n",
       "      <th>2</th>\n",
       "      <td>Sheriff David Clarke Becomes An Internet Joke...</td>\n",
       "      <td>On Friday, it was revealed that former Milwauk...</td>\n",
       "      <td>News</td>\n",
       "      <td>December 30, 2017</td>\n",
       "    </tr>\n",
       "    <tr>\n",
       "      <th>3</th>\n",
       "      <td>Trump Is So Obsessed He Even Has Obama’s Name...</td>\n",
       "      <td>On Christmas day, Donald Trump announced that ...</td>\n",
       "      <td>News</td>\n",
       "      <td>December 29, 2017</td>\n",
       "    </tr>\n",
       "    <tr>\n",
       "      <th>4</th>\n",
       "      <td>Pope Francis Just Called Out Donald Trump Dur...</td>\n",
       "      <td>Pope Francis used his annual Christmas Day mes...</td>\n",
       "      <td>News</td>\n",
       "      <td>December 25, 2017</td>\n",
       "    </tr>\n",
       "  </tbody>\n",
       "</table>\n",
       "</div>"
      ],
      "text/plain": [
       "                                               title  \\\n",
       "0   Donald Trump Sends Out Embarrassing New Year’...   \n",
       "1   Drunk Bragging Trump Staffer Started Russian ...   \n",
       "2   Sheriff David Clarke Becomes An Internet Joke...   \n",
       "3   Trump Is So Obsessed He Even Has Obama’s Name...   \n",
       "4   Pope Francis Just Called Out Donald Trump Dur...   \n",
       "\n",
       "                                                text subject  \\\n",
       "0  Donald Trump just couldn t wish all Americans ...    News   \n",
       "1  House Intelligence Committee Chairman Devin Nu...    News   \n",
       "2  On Friday, it was revealed that former Milwauk...    News   \n",
       "3  On Christmas day, Donald Trump announced that ...    News   \n",
       "4  Pope Francis used his annual Christmas Day mes...    News   \n",
       "\n",
       "                date  \n",
       "0  December 31, 2017  \n",
       "1  December 31, 2017  \n",
       "2  December 30, 2017  \n",
       "3  December 29, 2017  \n",
       "4  December 25, 2017  "
      ]
     },
     "execution_count": 3,
     "metadata": {},
     "output_type": "execute_result"
    }
   ],
   "source": [
    "fake_df.head()"
   ]
  },
  {
   "cell_type": "markdown",
   "id": "72f40167",
   "metadata": {
    "papermill": {
     "duration": 0.046257,
     "end_time": "2022-05-01T19:49:02.052055",
     "exception": false,
     "start_time": "2022-05-01T19:49:02.005798",
     "status": "completed"
    },
    "tags": []
   },
   "source": [
    "Look at some of the real articles"
   ]
  },
  {
   "cell_type": "code",
   "execution_count": 4,
   "id": "af561f85",
   "metadata": {
    "execution": {
     "iopub.execute_input": "2022-05-01T19:49:02.155311Z",
     "iopub.status.busy": "2022-05-01T19:49:02.154665Z",
     "iopub.status.idle": "2022-05-01T19:49:02.157580Z",
     "shell.execute_reply": "2022-05-01T19:49:02.158013Z",
     "shell.execute_reply.started": "2022-04-17T08:45:06.038696Z"
    },
    "papermill": {
     "duration": 0.059644,
     "end_time": "2022-05-01T19:49:02.158172",
     "exception": false,
     "start_time": "2022-05-01T19:49:02.098528",
     "status": "completed"
    },
    "tags": []
   },
   "outputs": [
    {
     "data": {
      "text/html": [
       "<div>\n",
       "<style scoped>\n",
       "    .dataframe tbody tr th:only-of-type {\n",
       "        vertical-align: middle;\n",
       "    }\n",
       "\n",
       "    .dataframe tbody tr th {\n",
       "        vertical-align: top;\n",
       "    }\n",
       "\n",
       "    .dataframe thead th {\n",
       "        text-align: right;\n",
       "    }\n",
       "</style>\n",
       "<table border=\"1\" class=\"dataframe\">\n",
       "  <thead>\n",
       "    <tr style=\"text-align: right;\">\n",
       "      <th></th>\n",
       "      <th>title</th>\n",
       "      <th>text</th>\n",
       "      <th>subject</th>\n",
       "      <th>date</th>\n",
       "    </tr>\n",
       "  </thead>\n",
       "  <tbody>\n",
       "    <tr>\n",
       "      <th>0</th>\n",
       "      <td>As U.S. budget fight looms, Republicans flip t...</td>\n",
       "      <td>WASHINGTON (Reuters) - The head of a conservat...</td>\n",
       "      <td>politicsNews</td>\n",
       "      <td>December 31, 2017</td>\n",
       "    </tr>\n",
       "    <tr>\n",
       "      <th>1</th>\n",
       "      <td>U.S. military to accept transgender recruits o...</td>\n",
       "      <td>WASHINGTON (Reuters) - Transgender people will...</td>\n",
       "      <td>politicsNews</td>\n",
       "      <td>December 29, 2017</td>\n",
       "    </tr>\n",
       "    <tr>\n",
       "      <th>2</th>\n",
       "      <td>Senior U.S. Republican senator: 'Let Mr. Muell...</td>\n",
       "      <td>WASHINGTON (Reuters) - The special counsel inv...</td>\n",
       "      <td>politicsNews</td>\n",
       "      <td>December 31, 2017</td>\n",
       "    </tr>\n",
       "    <tr>\n",
       "      <th>3</th>\n",
       "      <td>FBI Russia probe helped by Australian diplomat...</td>\n",
       "      <td>WASHINGTON (Reuters) - Trump campaign adviser ...</td>\n",
       "      <td>politicsNews</td>\n",
       "      <td>December 30, 2017</td>\n",
       "    </tr>\n",
       "    <tr>\n",
       "      <th>4</th>\n",
       "      <td>Trump wants Postal Service to charge 'much mor...</td>\n",
       "      <td>SEATTLE/WASHINGTON (Reuters) - President Donal...</td>\n",
       "      <td>politicsNews</td>\n",
       "      <td>December 29, 2017</td>\n",
       "    </tr>\n",
       "  </tbody>\n",
       "</table>\n",
       "</div>"
      ],
      "text/plain": [
       "                                               title  \\\n",
       "0  As U.S. budget fight looms, Republicans flip t...   \n",
       "1  U.S. military to accept transgender recruits o...   \n",
       "2  Senior U.S. Republican senator: 'Let Mr. Muell...   \n",
       "3  FBI Russia probe helped by Australian diplomat...   \n",
       "4  Trump wants Postal Service to charge 'much mor...   \n",
       "\n",
       "                                                text       subject  \\\n",
       "0  WASHINGTON (Reuters) - The head of a conservat...  politicsNews   \n",
       "1  WASHINGTON (Reuters) - Transgender people will...  politicsNews   \n",
       "2  WASHINGTON (Reuters) - The special counsel inv...  politicsNews   \n",
       "3  WASHINGTON (Reuters) - Trump campaign adviser ...  politicsNews   \n",
       "4  SEATTLE/WASHINGTON (Reuters) - President Donal...  politicsNews   \n",
       "\n",
       "                 date  \n",
       "0  December 31, 2017   \n",
       "1  December 29, 2017   \n",
       "2  December 31, 2017   \n",
       "3  December 30, 2017   \n",
       "4  December 29, 2017   "
      ]
     },
     "execution_count": 4,
     "metadata": {},
     "output_type": "execute_result"
    }
   ],
   "source": [
    "true_df.head()"
   ]
  },
  {
   "cell_type": "markdown",
   "id": "b5c8d982",
   "metadata": {
    "papermill": {
     "duration": 0.044561,
     "end_time": "2022-05-01T19:49:02.247655",
     "exception": false,
     "start_time": "2022-05-01T19:49:02.203094",
     "status": "completed"
    },
    "tags": []
   },
   "source": [
    "Set the corresponding output classes for the fake and real articles and merge all the articles into a single dataframe"
   ]
  },
  {
   "cell_type": "code",
   "execution_count": 5,
   "id": "c3fc31f8",
   "metadata": {
    "execution": {
     "iopub.execute_input": "2022-05-01T19:49:02.346453Z",
     "iopub.status.busy": "2022-05-01T19:49:02.344989Z",
     "iopub.status.idle": "2022-05-01T19:49:02.347133Z",
     "shell.execute_reply": "2022-05-01T19:49:02.347522Z",
     "shell.execute_reply.started": "2022-04-17T08:45:06.05127Z"
    },
    "papermill": {
     "duration": 0.05542,
     "end_time": "2022-05-01T19:49:02.347648",
     "exception": false,
     "start_time": "2022-05-01T19:49:02.292228",
     "status": "completed"
    },
    "tags": []
   },
   "outputs": [],
   "source": [
    "fake_df[\"output\"] = 0\n",
    "true_df[\"output\"] = 1"
   ]
  },
  {
   "cell_type": "code",
   "execution_count": 6,
   "id": "62b5f19c",
   "metadata": {
    "execution": {
     "iopub.execute_input": "2022-05-01T19:49:02.442160Z",
     "iopub.status.busy": "2022-05-01T19:49:02.441421Z",
     "iopub.status.idle": "2022-05-01T19:49:02.473260Z",
     "shell.execute_reply": "2022-05-01T19:49:02.473898Z",
     "shell.execute_reply.started": "2022-04-17T08:45:06.062583Z"
    },
    "papermill": {
     "duration": 0.082516,
     "end_time": "2022-05-01T19:49:02.474089",
     "exception": false,
     "start_time": "2022-05-01T19:49:02.391573",
     "status": "completed"
    },
    "tags": []
   },
   "outputs": [
    {
     "name": "stdout",
     "output_type": "stream",
     "text": [
      "Number of data examples: 44898 \n",
      "\n",
      "Number of data columns: 5 \n",
      "\n"
     ]
    },
    {
     "data": {
      "text/html": [
       "<div>\n",
       "<style scoped>\n",
       "    .dataframe tbody tr th:only-of-type {\n",
       "        vertical-align: middle;\n",
       "    }\n",
       "\n",
       "    .dataframe tbody tr th {\n",
       "        vertical-align: top;\n",
       "    }\n",
       "\n",
       "    .dataframe thead th {\n",
       "        text-align: right;\n",
       "    }\n",
       "</style>\n",
       "<table border=\"1\" class=\"dataframe\">\n",
       "  <thead>\n",
       "    <tr style=\"text-align: right;\">\n",
       "      <th></th>\n",
       "      <th>title</th>\n",
       "      <th>text</th>\n",
       "      <th>subject</th>\n",
       "      <th>date</th>\n",
       "      <th>output</th>\n",
       "    </tr>\n",
       "  </thead>\n",
       "  <tbody>\n",
       "    <tr>\n",
       "      <th>0</th>\n",
       "      <td>BREAKING…OBAMA’S WAR ON COPS: ANOTHER Cop Ambu...</td>\n",
       "      <td>Did America really expect this racist, Communi...</td>\n",
       "      <td>left-news</td>\n",
       "      <td>Jul 8, 2016</td>\n",
       "      <td>0</td>\n",
       "    </tr>\n",
       "    <tr>\n",
       "      <th>1</th>\n",
       "      <td>WIKILEAKS REMINDS THE WORLD: “Obama has a hist...</td>\n",
       "      <td>Wikileaks founder Julian Assange reminded us i...</td>\n",
       "      <td>left-news</td>\n",
       "      <td>Mar 5, 2017</td>\n",
       "      <td>0</td>\n",
       "    </tr>\n",
       "    <tr>\n",
       "      <th>2</th>\n",
       "      <td>Australian PM says he's confident Trump won't ...</td>\n",
       "      <td>SYDNEY (Reuters) - Australian Prime Minister M...</td>\n",
       "      <td>politicsNews</td>\n",
       "      <td>December 4, 2016</td>\n",
       "      <td>1</td>\n",
       "    </tr>\n",
       "    <tr>\n",
       "      <th>3</th>\n",
       "      <td>Battle lines drawn for South Africa's ANC on e...</td>\n",
       "      <td>JOHANNESBURG (Reuters) - The African National ...</td>\n",
       "      <td>worldnews</td>\n",
       "      <td>December 15, 2017</td>\n",
       "      <td>1</td>\n",
       "    </tr>\n",
       "    <tr>\n",
       "      <th>4</th>\n",
       "      <td>WATCH: Black Panelists SHUT DOWN Trump Fan Fo...</td>\n",
       "      <td>Donald Trump s efforts to reach out to voters ...</td>\n",
       "      <td>News</td>\n",
       "      <td>August 20, 2016</td>\n",
       "      <td>0</td>\n",
       "    </tr>\n",
       "  </tbody>\n",
       "</table>\n",
       "</div>"
      ],
      "text/plain": [
       "                                               title  \\\n",
       "0  BREAKING…OBAMA’S WAR ON COPS: ANOTHER Cop Ambu...   \n",
       "1  WIKILEAKS REMINDS THE WORLD: “Obama has a hist...   \n",
       "2  Australian PM says he's confident Trump won't ...   \n",
       "3  Battle lines drawn for South Africa's ANC on e...   \n",
       "4   WATCH: Black Panelists SHUT DOWN Trump Fan Fo...   \n",
       "\n",
       "                                                text       subject  \\\n",
       "0  Did America really expect this racist, Communi...     left-news   \n",
       "1  Wikileaks founder Julian Assange reminded us i...     left-news   \n",
       "2  SYDNEY (Reuters) - Australian Prime Minister M...  politicsNews   \n",
       "3  JOHANNESBURG (Reuters) - The African National ...     worldnews   \n",
       "4  Donald Trump s efforts to reach out to voters ...          News   \n",
       "\n",
       "                 date  output  \n",
       "0         Jul 8, 2016       0  \n",
       "1         Mar 5, 2017       0  \n",
       "2   December 4, 2016        1  \n",
       "3  December 15, 2017        1  \n",
       "4     August 20, 2016       0  "
      ]
     },
     "execution_count": 6,
     "metadata": {},
     "output_type": "execute_result"
    }
   ],
   "source": [
    "df = fake_df.append(true_df).sample(frac=1).reset_index(drop=True) #shuffle data after append\n",
    "\n",
    "# check the number of rows and columns in the training set\n",
    "print(\"Number of data examples: {} \\n\".format(df.shape[0]))\n",
    "print(\"Number of data columns: {} \\n\".format(df.shape[1]))\n",
    "\n",
    "df.head()"
   ]
  },
  {
   "cell_type": "markdown",
   "id": "b81fda9a",
   "metadata": {
    "papermill": {
     "duration": 0.043843,
     "end_time": "2022-05-01T19:49:02.563735",
     "exception": false,
     "start_time": "2022-05-01T19:49:02.519892",
     "status": "completed"
    },
    "tags": []
   },
   "source": [
    "Find any missing values and drop the corresponding rows"
   ]
  },
  {
   "cell_type": "code",
   "execution_count": 7,
   "id": "a26e13dc",
   "metadata": {
    "execution": {
     "iopub.execute_input": "2022-05-01T19:49:02.676730Z",
     "iopub.status.busy": "2022-05-01T19:49:02.675860Z",
     "iopub.status.idle": "2022-05-01T19:49:02.708256Z",
     "shell.execute_reply": "2022-05-01T19:49:02.708847Z",
     "shell.execute_reply.started": "2022-04-17T08:45:06.105111Z"
    },
    "papermill": {
     "duration": 0.102406,
     "end_time": "2022-05-01T19:49:02.709043",
     "exception": false,
     "start_time": "2022-05-01T19:49:02.606637",
     "status": "completed"
    },
    "tags": []
   },
   "outputs": [
    {
     "name": "stdout",
     "output_type": "stream",
     "text": [
      "Number of missing data points per column:\n",
      "\n",
      "title      0\n",
      "text       0\n",
      "subject    0\n",
      "date       0\n",
      "output     0\n",
      "dtype: int64\n"
     ]
    }
   ],
   "source": [
    "# print out stats about data \n",
    "\n",
    "# replace empty strings with nan type\n",
    "# df[\"title\"].replace(\" \", np.nan, inplace=True)\n",
    "# df[\"text\"].replace(\" \", np.nan, inplace=True)\n",
    "\n",
    "missing_values_count = df.isnull().sum() # we get the number of missing data points per column\n",
    "print(\"Number of missing data points per column:\\n\")\n",
    "print (missing_values_count)\n",
    "\n",
    "df.dropna(inplace=True) #drop the empty rows"
   ]
  },
  {
   "cell_type": "markdown",
   "id": "83ce6d84",
   "metadata": {
    "papermill": {
     "duration": 0.043004,
     "end_time": "2022-05-01T19:49:02.798323",
     "exception": false,
     "start_time": "2022-05-01T19:49:02.755319",
     "status": "completed"
    },
    "tags": []
   },
   "source": [
    "Let's look at the distribution of subject in the dataset."
   ]
  },
  {
   "cell_type": "code",
   "execution_count": 8,
   "id": "89224aba",
   "metadata": {
    "execution": {
     "iopub.execute_input": "2022-05-01T19:49:02.899846Z",
     "iopub.status.busy": "2022-05-01T19:49:02.898704Z",
     "iopub.status.idle": "2022-05-01T19:49:02.901816Z",
     "shell.execute_reply": "2022-05-01T19:49:02.902198Z",
     "shell.execute_reply.started": "2022-04-17T08:45:06.167619Z"
    },
    "papermill": {
     "duration": 0.06103,
     "end_time": "2022-05-01T19:49:02.902332",
     "exception": false,
     "start_time": "2022-05-01T19:49:02.841302",
     "status": "completed"
    },
    "tags": []
   },
   "outputs": [
    {
     "data": {
      "text/plain": [
       "politicsNews       0.251058\n",
       "worldnews          0.225957\n",
       "News               0.201568\n",
       "politics           0.152368\n",
       "left-news          0.099314\n",
       "Government News    0.034968\n",
       "US_News            0.017440\n",
       "Middle-east        0.017328\n",
       "Name: subject, dtype: float64"
      ]
     },
     "execution_count": 8,
     "metadata": {},
     "output_type": "execute_result"
    }
   ],
   "source": [
    "df.subject.value_counts(normalize=True)"
   ]
  },
  {
   "cell_type": "markdown",
   "id": "6083c14e",
   "metadata": {
    "papermill": {
     "duration": 0.042857,
     "end_time": "2022-05-01T19:49:02.989005",
     "exception": false,
     "start_time": "2022-05-01T19:49:02.946148",
     "status": "completed"
    },
    "tags": []
   },
   "source": [
    "Most of the articles are on politics and world news."
   ]
  },
  {
   "cell_type": "markdown",
   "id": "1b2bd120",
   "metadata": {
    "papermill": {
     "duration": 0.045127,
     "end_time": "2022-05-01T19:49:03.079357",
     "exception": false,
     "start_time": "2022-05-01T19:49:03.034230",
     "status": "completed"
    },
    "tags": []
   },
   "source": [
    "Let's now look at the subject distribution per output class."
   ]
  },
  {
   "cell_type": "code",
   "execution_count": 9,
   "id": "583cb37f",
   "metadata": {
    "execution": {
     "iopub.execute_input": "2022-05-01T19:49:03.175994Z",
     "iopub.status.busy": "2022-05-01T19:49:03.175203Z",
     "iopub.status.idle": "2022-05-01T19:49:03.187623Z",
     "shell.execute_reply": "2022-05-01T19:49:03.187169Z",
     "shell.execute_reply.started": "2022-04-17T08:45:06.186229Z"
    },
    "papermill": {
     "duration": 0.06285,
     "end_time": "2022-05-01T19:49:03.187757",
     "exception": false,
     "start_time": "2022-05-01T19:49:03.124907",
     "status": "completed"
    },
    "tags": []
   },
   "outputs": [
    {
     "name": "stdout",
     "output_type": "stream",
     "text": [
      "output  subject        \n",
      "0       Government News     1570\n",
      "        Middle-east          778\n",
      "        News                9050\n",
      "        US_News              783\n",
      "        left-news           4459\n",
      "        politics            6841\n",
      "1       politicsNews       11272\n",
      "        worldnews          10145\n",
      "dtype: int64\n"
     ]
    }
   ],
   "source": [
    "# Calculate subject counts per output class\n",
    "info_per_class = df.groupby([\"output\", \"subject\"]).size()\n",
    "print (info_per_class)"
   ]
  },
  {
   "cell_type": "markdown",
   "id": "cad7d92a",
   "metadata": {
    "papermill": {
     "duration": 0.045856,
     "end_time": "2022-05-01T19:49:03.280883",
     "exception": false,
     "start_time": "2022-05-01T19:49:03.235027",
     "status": "completed"
    },
    "tags": []
   },
   "source": [
    "From above, we can see that while true articles in this dataset only cover politics and world news, fake articles cover different subjects."
   ]
  },
  {
   "cell_type": "markdown",
   "id": "1e4d76df",
   "metadata": {
    "papermill": {
     "duration": 0.045902,
     "end_time": "2022-05-01T19:49:03.372939",
     "exception": false,
     "start_time": "2022-05-01T19:49:03.327037",
     "status": "completed"
    },
    "tags": []
   },
   "source": [
    "Let's now visualize the distribution of class labels over the entire dataset"
   ]
  },
  {
   "cell_type": "code",
   "execution_count": 10,
   "id": "112c5534",
   "metadata": {
    "execution": {
     "iopub.execute_input": "2022-05-01T19:49:03.484543Z",
     "iopub.status.busy": "2022-05-01T19:49:03.483601Z",
     "iopub.status.idle": "2022-05-01T19:49:03.627759Z",
     "shell.execute_reply": "2022-05-01T19:49:03.628798Z",
     "shell.execute_reply.started": "2022-04-17T08:45:06.205808Z"
    },
    "papermill": {
     "duration": 0.208506,
     "end_time": "2022-05-01T19:49:03.629045",
     "exception": false,
     "start_time": "2022-05-01T19:49:03.420539",
     "status": "completed"
    },
    "tags": []
   },
   "outputs": [
    {
     "data": {
      "image/png": "[encoded data removed]",
      "text/plain": [
       "<Figure size 720x720 with 1 Axes>"
      ]
     },
     "metadata": {},
     "output_type": "display_data"
    }
   ],
   "source": [
    "# counts for all classes\n",
    "counts = df[\"output\"].value_counts()\n",
    "\n",
    "class_labels = [\"fake\", \"true\"]\n",
    "\n",
    "counts_per_class = [counts[0], counts[1]]\n",
    "\n",
    "# counts.plot(kind='barh')\n",
    "\n",
    "plt.figure(figsize = (10,10))\n",
    "plt.pie(counts_per_class, labels = class_labels, autopct = '%1.1f%%')\n",
    "plt.show()"
   ]
  },
  {
   "cell_type": "markdown",
   "id": "a8bfef21",
   "metadata": {
    "papermill": {
     "duration": 0.04513,
     "end_time": "2022-05-01T19:49:03.744962",
     "exception": false,
     "start_time": "2022-05-01T19:49:03.699832",
     "status": "completed"
    },
    "tags": []
   },
   "source": [
    "From the chart above, we can see that the dataset is decently balanced over the 2 classes."
   ]
  },
  {
   "cell_type": "markdown",
   "id": "2eff0b79",
   "metadata": {
    "papermill": {
     "duration": 0.044802,
     "end_time": "2022-05-01T19:49:03.834268",
     "exception": false,
     "start_time": "2022-05-01T19:49:03.789466",
     "status": "completed"
    },
    "tags": []
   },
   "source": [
    "Let's now look at the word length distribution for the title and text columns"
   ]
  },
  {
   "cell_type": "code",
   "execution_count": 11,
   "id": "c0ff9ada",
   "metadata": {
    "execution": {
     "iopub.execute_input": "2022-05-01T19:49:04.006290Z",
     "iopub.status.busy": "2022-05-01T19:49:03.973435Z",
     "iopub.status.idle": "2022-05-01T19:49:05.197772Z",
     "shell.execute_reply": "2022-05-01T19:49:05.198769Z",
     "shell.execute_reply.started": "2022-04-17T08:45:06.370476Z"
    },
    "papermill": {
     "duration": 1.316547,
     "end_time": "2022-05-01T19:49:05.198970",
     "exception": false,
     "start_time": "2022-05-01T19:49:03.882423",
     "status": "completed"
    },
    "tags": []
   },
   "outputs": [
    {
     "data": {
      "text/html": [
       "<div>\n",
       "<style scoped>\n",
       "    .dataframe tbody tr th:only-of-type {\n",
       "        vertical-align: middle;\n",
       "    }\n",
       "\n",
       "    .dataframe tbody tr th {\n",
       "        vertical-align: top;\n",
       "    }\n",
       "\n",
       "    .dataframe thead th {\n",
       "        text-align: right;\n",
       "    }\n",
       "</style>\n",
       "<table border=\"1\" class=\"dataframe\">\n",
       "  <thead>\n",
       "    <tr style=\"text-align: right;\">\n",
       "      <th></th>\n",
       "      <th>output</th>\n",
       "      <th>title_length</th>\n",
       "      <th>text_length</th>\n",
       "    </tr>\n",
       "  </thead>\n",
       "  <tbody>\n",
       "    <tr>\n",
       "      <th>count</th>\n",
       "      <td>44898.000000</td>\n",
       "      <td>44898.000000</td>\n",
       "      <td>44898.000000</td>\n",
       "    </tr>\n",
       "    <tr>\n",
       "      <th>mean</th>\n",
       "      <td>0.477015</td>\n",
       "      <td>12.453472</td>\n",
       "      <td>405.282284</td>\n",
       "    </tr>\n",
       "    <tr>\n",
       "      <th>std</th>\n",
       "      <td>0.499477</td>\n",
       "      <td>4.111476</td>\n",
       "      <td>351.265595</td>\n",
       "    </tr>\n",
       "    <tr>\n",
       "      <th>min</th>\n",
       "      <td>0.000000</td>\n",
       "      <td>1.000000</td>\n",
       "      <td>0.000000</td>\n",
       "    </tr>\n",
       "    <tr>\n",
       "      <th>25%</th>\n",
       "      <td>0.000000</td>\n",
       "      <td>10.000000</td>\n",
       "      <td>203.000000</td>\n",
       "    </tr>\n",
       "    <tr>\n",
       "      <th>50%</th>\n",
       "      <td>0.000000</td>\n",
       "      <td>11.000000</td>\n",
       "      <td>362.000000</td>\n",
       "    </tr>\n",
       "    <tr>\n",
       "      <th>75%</th>\n",
       "      <td>1.000000</td>\n",
       "      <td>14.000000</td>\n",
       "      <td>513.000000</td>\n",
       "    </tr>\n",
       "    <tr>\n",
       "      <th>max</th>\n",
       "      <td>1.000000</td>\n",
       "      <td>42.000000</td>\n",
       "      <td>8135.000000</td>\n",
       "    </tr>\n",
       "  </tbody>\n",
       "</table>\n",
       "</div>"
      ],
      "text/plain": [
       "             output  title_length   text_length\n",
       "count  44898.000000  44898.000000  44898.000000\n",
       "mean       0.477015     12.453472    405.282284\n",
       "std        0.499477      4.111476    351.265595\n",
       "min        0.000000      1.000000      0.000000\n",
       "25%        0.000000     10.000000    203.000000\n",
       "50%        0.000000     11.000000    362.000000\n",
       "75%        1.000000     14.000000    513.000000\n",
       "max        1.000000     42.000000   8135.000000"
      ]
     },
     "execution_count": 11,
     "metadata": {},
     "output_type": "execute_result"
    }
   ],
   "source": [
    "df[\"title_length\"] = df[\"title\"].apply(lambda x: len(x.split()))\n",
    "df[\"text_length\"] = df[\"text\"].apply(lambda x: len(x.split()))\n",
    "df.describe()"
   ]
  },
  {
   "cell_type": "markdown",
   "id": "1a35cacf",
   "metadata": {
    "papermill": {
     "duration": 0.078482,
     "end_time": "2022-05-01T19:49:05.358261",
     "exception": false,
     "start_time": "2022-05-01T19:49:05.279779",
     "status": "completed"
    },
    "tags": []
   },
   "source": [
    "Visualize the histogram title length distribution"
   ]
  },
  {
   "cell_type": "code",
   "execution_count": 12,
   "id": "9c792847",
   "metadata": {
    "execution": {
     "iopub.execute_input": "2022-05-01T19:49:05.485962Z",
     "iopub.status.busy": "2022-05-01T19:49:05.485310Z",
     "iopub.status.idle": "2022-05-01T19:49:05.741876Z",
     "shell.execute_reply": "2022-05-01T19:49:05.741226Z",
     "shell.execute_reply.started": "2022-04-17T08:46:54.670804Z"
    },
    "papermill": {
     "duration": 0.309612,
     "end_time": "2022-05-01T19:49:05.742002",
     "exception": false,
     "start_time": "2022-05-01T19:49:05.432390",
     "status": "completed"
    },
    "tags": []
   },
   "outputs": [
    {
     "data": {
      "text/plain": [
       "Text(0, 0.5, 'Count')"
      ]
     },
     "execution_count": 12,
     "metadata": {},
     "output_type": "execute_result"
    },
    {
     "data": {
      "image/png": "[encoded data removed]",
      "text/plain": [
       "<Figure size 432x288 with 1 Axes>"
      ]
     },
     "metadata": {
      "needs_background": "light"
     },
     "output_type": "display_data"
    }
   ],
   "source": [
    "df[\"title_length\"].hist(bins=40)\n",
    "plt.xlabel(\"Number of Words\")\n",
    "plt.ylabel(\"Count\")"
   ]
  },
  {
   "cell_type": "markdown",
   "id": "0400768a",
   "metadata": {
    "papermill": {
     "duration": 0.045901,
     "end_time": "2022-05-01T19:49:05.834420",
     "exception": false,
     "start_time": "2022-05-01T19:49:05.788519",
     "status": "completed"
    },
    "tags": []
   },
   "source": [
    "Identify any duplicate examples in the dataset"
   ]
  },
  {
   "cell_type": "code",
   "execution_count": 13,
   "id": "77da6ced",
   "metadata": {
    "execution": {
     "iopub.execute_input": "2022-05-01T19:49:05.942493Z",
     "iopub.status.busy": "2022-05-01T19:49:05.941728Z",
     "iopub.status.idle": "2022-05-01T19:49:06.254281Z",
     "shell.execute_reply": "2022-05-01T19:49:06.254736Z",
     "shell.execute_reply.started": "2022-04-17T08:47:11.642478Z"
    },
    "papermill": {
     "duration": 0.374172,
     "end_time": "2022-05-01T19:49:06.254892",
     "exception": false,
     "start_time": "2022-05-01T19:49:05.880720",
     "status": "completed"
    },
    "tags": []
   },
   "outputs": [
    {
     "data": {
      "text/plain": [
       "title           209\n",
       "text            209\n",
       "subject         209\n",
       "date            209\n",
       "output          209\n",
       "title_length    209\n",
       "text_length     209\n",
       "is_duplicate    209\n",
       "dtype: int64"
      ]
     },
     "execution_count": 13,
     "metadata": {},
     "output_type": "execute_result"
    }
   ],
   "source": [
    "df[\"is_duplicate\"] = df.duplicated()\n",
    "df[df[\"is_duplicate\"]==True].count() "
   ]
  },
  {
   "cell_type": "markdown",
   "id": "520563bc",
   "metadata": {
    "papermill": {
     "duration": 0.046846,
     "end_time": "2022-05-01T19:49:06.349430",
     "exception": false,
     "start_time": "2022-05-01T19:49:06.302584",
     "status": "completed"
    },
    "tags": []
   },
   "source": [
    "Drop the duplicated examples from the dataset before splitting the data into train-validation-test subsets. This prevents any accidental test or validation data leakage into the train subset."
   ]
  },
  {
   "cell_type": "code",
   "execution_count": 14,
   "id": "ae048730",
   "metadata": {
    "execution": {
     "iopub.execute_input": "2022-05-01T19:49:06.456099Z",
     "iopub.status.busy": "2022-05-01T19:49:06.452076Z",
     "iopub.status.idle": "2022-05-01T19:49:06.714334Z",
     "shell.execute_reply": "2022-05-01T19:49:06.713724Z",
     "shell.execute_reply.started": "2022-04-17T08:47:19.110991Z"
    },
    "papermill": {
     "duration": 0.317762,
     "end_time": "2022-05-01T19:49:06.714505",
     "exception": false,
     "start_time": "2022-05-01T19:49:06.396743",
     "status": "completed"
    },
    "tags": []
   },
   "outputs": [
    {
     "name": "stdout",
     "output_type": "stream",
     "text": [
      "Number of data examples after dropping duplicates: 44881 \n",
      "\n"
     ]
    }
   ],
   "source": [
    "df.drop_duplicates(keep=False, inplace=True, ignore_index=True)\n",
    "df.drop(\"is_duplicate\", axis=1, inplace=True) \n",
    "print(\"Number of data examples after dropping duplicates: {} \\n\".format(df.shape[0]))"
   ]
  },
  {
   "cell_type": "markdown",
   "id": "3ca99760",
   "metadata": {
    "papermill": {
     "duration": 0.046746,
     "end_time": "2022-05-01T19:49:06.808929",
     "exception": false,
     "start_time": "2022-05-01T19:49:06.762183",
     "status": "completed"
    },
    "tags": []
   },
   "source": [
    "## Train-Validation-Test Split"
   ]
  },
  {
   "cell_type": "code",
   "execution_count": 15,
   "id": "0277bc2e",
   "metadata": {
    "execution": {
     "iopub.execute_input": "2022-05-01T19:49:06.911149Z",
     "iopub.status.busy": "2022-05-01T19:49:06.910435Z",
     "iopub.status.idle": "2022-05-01T19:49:06.940381Z",
     "shell.execute_reply": "2022-05-01T19:49:06.939838Z",
     "shell.execute_reply.started": "2022-04-17T08:47:26.222425Z"
    },
    "papermill": {
     "duration": 0.08469,
     "end_time": "2022-05-01T19:49:06.940530",
     "exception": false,
     "start_time": "2022-05-01T19:49:06.855840",
     "status": "completed"
    },
    "tags": []
   },
   "outputs": [],
   "source": [
    "train_df, sub_df = train_test_split(df, stratify=df.output.values, \n",
    "                                                  random_state=42, \n",
    "                                                  test_size=0.2, shuffle=True)\n",
    "\n",
    "validation_df, test_df = train_test_split(sub_df, stratify=sub_df.output.values, \n",
    "                                                  random_state=42, \n",
    "                                                  test_size=0.25, shuffle=True)\n",
    "\n",
    "\n",
    "train_df.reset_index(drop=True, inplace=True)\n",
    "validation_df.reset_index(drop=True, inplace=True)\n",
    "test_df.reset_index(drop=True, inplace=True)"
   ]
  },
  {
   "cell_type": "code",
   "execution_count": 16,
   "id": "17d65641",
   "metadata": {
    "execution": {
     "iopub.execute_input": "2022-05-01T19:49:07.040269Z",
     "iopub.status.busy": "2022-05-01T19:49:07.039714Z",
     "iopub.status.idle": "2022-05-01T19:49:07.043543Z",
     "shell.execute_reply": "2022-05-01T19:49:07.044329Z",
     "shell.execute_reply.started": "2022-04-17T08:47:32.294146Z"
    },
    "papermill": {
     "duration": 0.056596,
     "end_time": "2022-05-01T19:49:07.044461",
     "exception": false,
     "start_time": "2022-05-01T19:49:06.987865",
     "status": "completed"
    },
    "tags": []
   },
   "outputs": [
    {
     "name": "stdout",
     "output_type": "stream",
     "text": [
      "Train data: (35904, 7) \n",
      "\n",
      "Validation data: (6732, 7) \n",
      "\n",
      "Test data: (2245, 7) \n",
      "\n"
     ]
    }
   ],
   "source": [
    "# We check the number of examples after split\n",
    "print(\"Train data: {} \\n\".format(train_df.shape))\n",
    "print(\"Validation data: {} \\n\".format(validation_df.shape))\n",
    "print(\"Test data: {} \\n\".format(test_df.shape))"
   ]
  },
  {
   "cell_type": "markdown",
   "id": "6a6749a8",
   "metadata": {
    "papermill": {
     "duration": 0.052457,
     "end_time": "2022-05-01T19:49:07.150290",
     "exception": false,
     "start_time": "2022-05-01T19:49:07.097833",
     "status": "completed"
    },
    "tags": []
   },
   "source": [
    "## Process and Load the Data"
   ]
  },
  {
   "cell_type": "markdown",
   "id": "7d5cdf63",
   "metadata": {
    "papermill": {
     "duration": 0.050513,
     "end_time": "2022-05-01T19:49:07.252119",
     "exception": false,
     "start_time": "2022-05-01T19:49:07.201606",
     "status": "completed"
    },
    "tags": []
   },
   "source": [
    "Initialize the tokenizer"
   ]
  },
  {
   "cell_type": "code",
   "execution_count": 17,
   "id": "bcc64238",
   "metadata": {
    "execution": {
     "iopub.execute_input": "2022-05-01T19:49:07.362572Z",
     "iopub.status.busy": "2022-05-01T19:49:07.361655Z",
     "iopub.status.idle": "2022-05-01T19:49:11.851319Z",
     "shell.execute_reply": "2022-05-01T19:49:11.851748Z",
     "shell.execute_reply.started": "2022-04-17T08:47:38.601546Z"
    },
    "papermill": {
     "duration": 4.548658,
     "end_time": "2022-05-01T19:49:11.851908",
     "exception": false,
     "start_time": "2022-05-01T19:49:07.303250",
     "status": "completed"
    },
    "tags": []
   },
   "outputs": [
    {
     "data": {
      "application/vnd.jupyter.widget-view+json": {
       "model_id": "640322f7d14842b29d858efcbc3503f8",
       "version_major": 2,
       "version_minor": 0
      },
      "text/plain": [
       "Downloading:   0%|          | 0.00/28.0 [00:00<?, ?B/s]"
      ]
     },
     "metadata": {},
     "output_type": "display_data"
    },
    {
     "data": {
      "application/vnd.jupyter.widget-view+json": {
       "model_id": "9c060fd3eb674c94a8f0cfab655285a0",
       "version_major": 2,
       "version_minor": 0
      },
      "text/plain": [
       "Downloading:   0%|          | 0.00/226k [00:00<?, ?B/s]"
      ]
     },
     "metadata": {},
     "output_type": "display_data"
    },
    {
     "data": {
      "application/vnd.jupyter.widget-view+json": {
       "model_id": "876339b9045d43fea074e24bd3292a13",
       "version_major": 2,
       "version_minor": 0
      },
      "text/plain": [
       "Downloading:   0%|          | 0.00/455k [00:00<?, ?B/s]"
      ]
     },
     "metadata": {},
     "output_type": "display_data"
    },
    {
     "data": {
      "application/vnd.jupyter.widget-view+json": {
       "model_id": "c630183ede6b4715a88e9e14e8ea4249",
       "version_major": 2,
       "version_minor": 0
      },
      "text/plain": [
       "Downloading:   0%|          | 0.00/483 [00:00<?, ?B/s]"
      ]
     },
     "metadata": {},
     "output_type": "display_data"
    },
    {
     "data": {
      "text/plain": [
       "PreTrainedTokenizer(name_or_path='distilbert-base-uncased', vocab_size=30522, model_max_len=512, is_fast=False, padding_side='right', truncation_side='right', special_tokens={'unk_token': '[UNK]', 'sep_token': '[SEP]', 'pad_token': '[PAD]', 'cls_token': '[CLS]', 'mask_token': '[MASK]'})"
      ]
     },
     "execution_count": 17,
     "metadata": {},
     "output_type": "execute_result"
    }
   ],
   "source": [
    "# model_name = \"bert-base-uncased\"\n",
    "# tokenizer = BertTokenizer.from_pretrained(model_name, do_lower_case=True)\n",
    "\n",
    "model_name = \"distilbert-base-uncased\" #faster\n",
    "tokenizer = DistilBertTokenizer.from_pretrained(model_name, do_lower_case=True)\n",
    "\n",
    "tokenizer"
   ]
  },
  {
   "cell_type": "markdown",
   "id": "c2e14f6d",
   "metadata": {
    "papermill": {
     "duration": 0.049897,
     "end_time": "2022-05-01T19:49:11.962078",
     "exception": false,
     "start_time": "2022-05-01T19:49:11.912181",
     "status": "completed"
    },
    "tags": []
   },
   "source": [
    "The title strings of the articles will be fed as input to the model. Since the title sequences are of varying lengths, the input sequences are padded to a fixed length. From the above histogram for title length distribution, it can seen that most of titles are no more than 30 words long. Hence the MAX_LEN is set to 30 to ensure not too much information is lost"
   ]
  },
  {
   "cell_type": "code",
   "execution_count": 18,
   "id": "7b0b2e8f",
   "metadata": {
    "execution": {
     "iopub.execute_input": "2022-05-01T19:49:12.065617Z",
     "iopub.status.busy": "2022-05-01T19:49:12.064793Z",
     "iopub.status.idle": "2022-05-01T19:49:12.066591Z",
     "shell.execute_reply": "2022-05-01T19:49:12.067036Z",
     "shell.execute_reply.started": "2022-04-17T08:52:25.548993Z"
    },
    "papermill": {
     "duration": 0.055636,
     "end_time": "2022-05-01T19:49:12.067172",
     "exception": false,
     "start_time": "2022-05-01T19:49:12.011536",
     "status": "completed"
    },
    "tags": []
   },
   "outputs": [],
   "source": [
    "# Configuration Settings\n",
    "NUM_LABELS = 2\n",
    "BATCH_SIZE = 32\n",
    "MAX_LEN = 30\n",
    "EPOCHS = 3\n",
    "LEARNING_RATE = 1e-5"
   ]
  },
  {
   "cell_type": "markdown",
   "id": "e7fbc446",
   "metadata": {
    "papermill": {
     "duration": 0.054974,
     "end_time": "2022-05-01T19:49:12.173489",
     "exception": false,
     "start_time": "2022-05-01T19:49:12.118515",
     "status": "completed"
    },
    "tags": []
   },
   "source": [
    "Data preparation includes preprocessing steps such as lower casing the title strings, applying tokenization and vectorization to feed numerical data to the machine learning model. The examples are then fed as batches during the training phase."
   ]
  },
  {
   "cell_type": "code",
   "execution_count": 19,
   "id": "0f80a4b1",
   "metadata": {
    "execution": {
     "iopub.execute_input": "2022-05-01T19:49:12.288463Z",
     "iopub.status.busy": "2022-05-01T19:49:12.287662Z",
     "iopub.status.idle": "2022-05-01T19:49:38.952043Z",
     "shell.execute_reply": "2022-05-01T19:49:38.952618Z",
     "shell.execute_reply.started": "2022-04-17T08:52:35.092298Z"
    },
    "papermill": {
     "duration": 26.725679,
     "end_time": "2022-05-01T19:49:38.952839",
     "exception": false,
     "start_time": "2022-05-01T19:49:12.227160",
     "status": "completed"
    },
    "tags": []
   },
   "outputs": [
    {
     "name": "stderr",
     "output_type": "stream",
     "text": [
      "/opt/conda/lib/python3.7/site-packages/transformers/tokenization_utils_base.py:2257: FutureWarning: The `pad_to_max_length` argument is deprecated and will be removed in a future version, use `padding=True` or `padding='longest'` to pad to the longest sequence in the batch, or use `padding='max_length'` to pad to a max length. In this case, you can give a specific length with `max_length` (e.g. `max_length=45`) or leave max_length to None to pad to the maximal input size of the model (e.g. 512 for Bert).\n",
      "  FutureWarning,\n"
     ]
    }
   ],
   "source": [
    "def process_data(df, tokenizer, max_len=30):\n",
    "    \"\"\"\n",
    "    Process the data to feed into the pretrained model\n",
    "    \"\"\"\n",
    "    data_processed = tokenizer.batch_encode_plus(df.title.values, pad_to_max_length=True, truncation=True, add_special_tokens=True, return_attention_mask=True, max_length=max_len, return_tensors='pt')\n",
    "    input_ids_train = data_processed[\"input_ids\"]\n",
    "    attention_mask_train = data_processed[\"attention_mask\"]\n",
    "    output_train = torch.tensor(df.output.values)\n",
    "    return input_ids_train, attention_mask_train, output_train\n",
    "\n",
    "input_ids_train, attention_mask_train, output_train = process_data(train_df, tokenizer, max_len=MAX_LEN)\n",
    "input_ids_val, attention_mask_val, output_val = process_data(validation_df, tokenizer, max_len=MAX_LEN)\n",
    "input_ids_test, attention_mask_test, output_test = process_data(test_df, tokenizer, max_len=MAX_LEN)"
   ]
  },
  {
   "cell_type": "code",
   "execution_count": 20,
   "id": "67f7a098",
   "metadata": {
    "execution": {
     "iopub.execute_input": "2022-05-01T19:49:39.074635Z",
     "iopub.status.busy": "2022-05-01T19:49:39.073808Z",
     "iopub.status.idle": "2022-05-01T19:49:39.076551Z",
     "shell.execute_reply": "2022-05-01T19:49:39.076000Z",
     "shell.execute_reply.started": "2022-04-17T08:53:16.166212Z"
    },
    "papermill": {
     "duration": 0.064689,
     "end_time": "2022-05-01T19:49:39.076686",
     "exception": false,
     "start_time": "2022-05-01T19:49:39.011997",
     "status": "completed"
    },
    "tags": []
   },
   "outputs": [],
   "source": [
    "def load_data(seq, mask, output, batch_size=32, use_train=True):\n",
    "    \"\"\"\n",
    "    Load data into batches\n",
    "    \"\"\"\n",
    "    data = TensorDataset(seq, mask, output)\n",
    "    if use_train: sampler = RandomSampler(data)\n",
    "    else: sampler = SequentialSampler(data)\n",
    "    dl_data = DataLoader(data, sampler=sampler, batch_size=batch_size)\n",
    "    return dl_data\n",
    "\n",
    "dl_train = load_data(input_ids_train, attention_mask_train, output_train, batch_size=BATCH_SIZE)\n",
    "dl_val = load_data(input_ids_val, attention_mask_val, output_val, batch_size=BATCH_SIZE, use_train=False)"
   ]
  },
  {
   "cell_type": "markdown",
   "id": "ac9e3d1b",
   "metadata": {
    "papermill": {
     "duration": 0.054987,
     "end_time": "2022-05-01T19:49:39.187107",
     "exception": false,
     "start_time": "2022-05-01T19:49:39.132120",
     "status": "completed"
    },
    "tags": []
   },
   "source": [
    "## Build and Train the Model"
   ]
  },
  {
   "cell_type": "code",
   "execution_count": 21,
   "id": "23d7adf2",
   "metadata": {
    "execution": {
     "iopub.execute_input": "2022-05-01T19:49:39.378392Z",
     "iopub.status.busy": "2022-05-01T19:49:39.376113Z",
     "iopub.status.idle": "2022-05-01T19:49:59.168156Z",
     "shell.execute_reply": "2022-05-01T19:49:59.168564Z",
     "shell.execute_reply.started": "2022-04-17T08:53:22.512759Z"
    },
    "papermill": {
     "duration": 19.924749,
     "end_time": "2022-05-01T19:49:59.168753",
     "exception": false,
     "start_time": "2022-05-01T19:49:39.244004",
     "status": "completed"
    },
    "tags": []
   },
   "outputs": [
    {
     "name": "stdout",
     "output_type": "stream",
     "text": [
      "Using device cuda.\n",
      "\n"
     ]
    },
    {
     "data": {
      "application/vnd.jupyter.widget-view+json": {
       "model_id": "30f422845ce44d758fb3f7a535ca5d7a",
       "version_major": 2,
       "version_minor": 0
      },
      "text/plain": [
       "Downloading:   0%|          | 0.00/256M [00:00<?, ?B/s]"
      ]
     },
     "metadata": {},
     "output_type": "display_data"
    },
    {
     "name": "stderr",
     "output_type": "stream",
     "text": [
      "Some weights of the model checkpoint at distilbert-base-uncased were not used when initializing DistilBertForSequenceClassification: ['vocab_layer_norm.weight', 'vocab_projector.bias', 'vocab_projector.weight', 'vocab_layer_norm.bias', 'vocab_transform.weight', 'vocab_transform.bias']\n",
      "- This IS expected if you are initializing DistilBertForSequenceClassification from the checkpoint of a model trained on another task or with another architecture (e.g. initializing a BertForSequenceClassification model from a BertForPreTraining model).\n",
      "- This IS NOT expected if you are initializing DistilBertForSequenceClassification from the checkpoint of a model that you expect to be exactly identical (initializing a BertForSequenceClassification model from a BertForSequenceClassification model).\n",
      "Some weights of DistilBertForSequenceClassification were not initialized from the model checkpoint at distilbert-base-uncased and are newly initialized: ['classifier.weight', 'pre_classifier.bias', 'pre_classifier.weight', 'classifier.bias']\n",
      "You should probably TRAIN this model on a down-stream task to be able to use it for predictions and inference.\n"
     ]
    }
   ],
   "source": [
    "device = torch.device(\"cuda\" if torch.cuda.is_available() else \"cpu\") #train on gpu if available\n",
    "print(\"Using device {}.\\n\".format(device))\n",
    "# model = BertForSequenceClassification.from_pretrained(model_name, num_labels=NUM_LABELS, output_hidden_states=False, output_attentions=False)\n",
    "model = DistilBertForSequenceClassification.from_pretrained(model_name, num_labels=NUM_LABELS, output_hidden_states=False, output_attentions=False)\n",
    "model = model.to(device)\n",
    "optimizer = torch.optim.AdamW(model.parameters(),lr=LEARNING_RATE)  # Default optimization\n",
    "# Learning rate scheduling is applied after optimizer’s update to adjust the learning rate based on the number of epochs.\n",
    "scheduler = get_linear_schedule_with_warmup(optimizer, num_warmup_steps=0, num_training_steps=len(dl_train) * EPOCHS) #number of batches * number of epochs\n",
    "# print(model)"
   ]
  },
  {
   "cell_type": "code",
   "execution_count": 22,
   "id": "6e95b76e",
   "metadata": {
    "execution": {
     "iopub.execute_input": "2022-05-01T19:49:59.278281Z",
     "iopub.status.busy": "2022-05-01T19:49:59.277603Z",
     "iopub.status.idle": "2022-05-01T19:49:59.280310Z",
     "shell.execute_reply": "2022-05-01T19:49:59.280747Z",
     "shell.execute_reply.started": "2022-04-17T08:53:40.562422Z"
    },
    "papermill": {
     "duration": 0.060687,
     "end_time": "2022-05-01T19:49:59.280903",
     "exception": false,
     "start_time": "2022-05-01T19:49:59.220216",
     "status": "completed"
    },
    "tags": []
   },
   "outputs": [
    {
     "name": "stdout",
     "output_type": "stream",
     "text": [
      "The model has total 66955010 trainable parameters\n"
     ]
    }
   ],
   "source": [
    "def count_parameters(model):\n",
    "    ''' Count the total number of trainable parameters '''\n",
    "    return sum(p.numel() for p in model.parameters() if p.requires_grad)\n",
    "\n",
    "num_params = count_parameters(model)\n",
    "print(\"The model has total {} trainable parameters\".format(num_params))"
   ]
  },
  {
   "cell_type": "code",
   "execution_count": 23,
   "id": "77091f1c",
   "metadata": {
    "execution": {
     "iopub.execute_input": "2022-05-01T19:49:59.398626Z",
     "iopub.status.busy": "2022-05-01T19:49:59.397816Z",
     "iopub.status.idle": "2022-05-01T19:49:59.399859Z",
     "shell.execute_reply": "2022-05-01T19:49:59.400227Z",
     "shell.execute_reply.started": "2022-04-17T08:53:47.004038Z"
    },
    "papermill": {
     "duration": 0.061877,
     "end_time": "2022-05-01T19:49:59.400356",
     "exception": false,
     "start_time": "2022-05-01T19:49:59.338479",
     "status": "completed"
    },
    "tags": []
   },
   "outputs": [],
   "source": [
    "def eval_metric(predictions, labels):\n",
    "  ''' Calculate average accuracy of the data samples '''\n",
    "  max_predictions = predictions.argmax(axis=1, keepdim=True) #[batch_size]\n",
    "  avg_acc = round(accuracy_score(y_true=labels.to('cpu').tolist(), y_pred=max_predictions.detach().cpu().numpy()), 2)*100 \n",
    "  return avg_acc"
   ]
  },
  {
   "cell_type": "code",
   "execution_count": 24,
   "id": "6b791590",
   "metadata": {
    "execution": {
     "iopub.execute_input": "2022-05-01T19:49:59.524061Z",
     "iopub.status.busy": "2022-05-01T19:49:59.523211Z",
     "iopub.status.idle": "2022-05-01T19:49:59.525012Z",
     "shell.execute_reply": "2022-05-01T19:49:59.525496Z",
     "shell.execute_reply.started": "2022-04-17T08:53:50.235472Z"
    },
    "papermill": {
     "duration": 0.073403,
     "end_time": "2022-05-01T19:49:59.525625",
     "exception": false,
     "start_time": "2022-05-01T19:49:59.452222",
     "status": "completed"
    },
    "tags": []
   },
   "outputs": [],
   "source": [
    "def train_fn(model, train_loader, optimizer, device, scheduler, criterion=None):\n",
    "  ''' Define the training function '''\n",
    "  model.train() #set the model on train mode\n",
    "  total_loss, total_acc = 0, 0\n",
    "\n",
    "  for batch in train_loader:\n",
    "    batch = tuple(item.to(device) for item in batch)\n",
    "    input_ids, input_mask, labels = batch\n",
    "    optimizer.zero_grad() # clear gradients from last batch\n",
    "    outputs = model(input_ids, attention_mask=input_mask, labels=labels) # get predictions\n",
    "#     loss = criterion(batch_y_pred, batch_y) # compute the loss\n",
    "    loss = outputs.loss\n",
    "    total_loss += loss.item() #aggregate the losses\n",
    "    loss.backward() # compute the gradients\n",
    "    optimizer.step() # update the parameters\n",
    "    scheduler.step()\n",
    "    logits = outputs.logits\n",
    "    total_acc += eval_metric(logits, labels)\n",
    "\n",
    "  loss_per_epoch = total_loss/len(train_loader)\n",
    "  acc_per_epoch = total_acc/len(train_loader)\n",
    "  return loss_per_epoch, acc_per_epoch\n",
    "\n",
    "\n",
    "\n",
    "def eval_fn(model, data_loader, device, criterion=None):\n",
    "  ''' Define the evaluation function '''\n",
    "  model.eval() # set the model on eval mode\n",
    "  total_loss, total_acc = 0, 0\n",
    "\n",
    "  with torch.no_grad(): # do not need to update the parameters\n",
    "    for batch in data_loader:\n",
    "      batch = tuple(item.to(device) for item in batch)\n",
    "      input_ids, input_mask, labels = batch\n",
    "      outputs = model(input_ids, attention_mask=input_mask, labels=labels) # get predictions\n",
    "#       loss = criterion(batch_y_pred, batch_y) # compute the loss\n",
    "      loss = outputs.loss\n",
    "      total_loss += loss.item() #aggregate the losses\n",
    "      logits = outputs.logits\n",
    "      total_acc += eval_metric(logits, labels)\n",
    "\n",
    "  loss_per_epoch = total_loss/len(data_loader)\n",
    "  acc_per_epoch = total_acc/len(data_loader)\n",
    "  return loss_per_epoch, acc_per_epoch"
   ]
  },
  {
   "cell_type": "markdown",
   "id": "8d5bca39",
   "metadata": {
    "papermill": {
     "duration": 0.052362,
     "end_time": "2022-05-01T19:49:59.629802",
     "exception": false,
     "start_time": "2022-05-01T19:49:59.577440",
     "status": "completed"
    },
    "tags": []
   },
   "source": [
    "Finetune the pretrained model on training data and evaluate the performance of the model on the validation data for a number of epochs"
   ]
  },
  {
   "cell_type": "code",
   "execution_count": 25,
   "id": "6efd41e5",
   "metadata": {
    "execution": {
     "iopub.execute_input": "2022-05-01T19:49:59.740510Z",
     "iopub.status.busy": "2022-05-01T19:49:59.739713Z",
     "iopub.status.idle": "2022-05-01T19:53:46.254397Z",
     "shell.execute_reply": "2022-05-01T19:53:46.251688Z",
     "shell.execute_reply.started": "2022-04-17T08:53:59.236742Z"
    },
    "papermill": {
     "duration": 226.573416,
     "end_time": "2022-05-01T19:53:46.254565",
     "exception": false,
     "start_time": "2022-05-01T19:49:59.681149",
     "status": "completed"
    },
    "tags": []
   },
   "outputs": [
    {
     "data": {
      "application/vnd.jupyter.widget-view+json": {
       "model_id": "b255633eab0f47f780f2461f684e5f12",
       "version_major": 2,
       "version_minor": 0
      },
      "text/plain": [
       "Epoch:   0%|          | 0/3 [00:00<?, ?it/s]"
      ]
     },
     "metadata": {},
     "output_type": "display_data"
    },
    {
     "name": "stdout",
     "output_type": "stream",
     "text": [
      "Epoch: 0, Train Loss: 0.0951, Train Accuracy: 96.89%\n",
      "Epoch: 0, Validation Loss: 0.0418, Validation Accuracy: 98.64%\n",
      "\n",
      "Epoch: 1, Train Loss: 0.0330, Train Accuracy: 98.90%\n",
      "Epoch: 1, Validation Loss: 0.0377, Validation Accuracy: 98.88%\n",
      "\n",
      "Epoch: 2, Train Loss: 0.0181, Train Accuracy: 99.44%\n",
      "Epoch: 2, Validation Loss: 0.0379, Validation Accuracy: 98.99%\n",
      "\n"
     ]
    }
   ],
   "source": [
    "# Training\n",
    "\n",
    "train_losses, validation_losses = [], [] # Store train and validation losses for plotting\n",
    "train_accuracies, validation_accuracies = [], []\n",
    "best_val_loss = float('inf')\n",
    "\n",
    "for epoch in trange(EPOCHS, desc=\"Epoch\"):\n",
    "  train_loss_per_epoch, train_acc_per_epoch = train_fn(model, dl_train, optimizer, device, scheduler)\n",
    "  val_loss_per_epoch, val_acc_per_epoch = eval_fn(model, dl_val, device)\n",
    "\n",
    "  train_losses.append(train_loss_per_epoch)\n",
    "  validation_losses.append(val_loss_per_epoch)\n",
    "  train_accuracies.append(train_acc_per_epoch)\n",
    "  validation_accuracies.append(val_acc_per_epoch)\n",
    "\n",
    "  if val_loss_per_epoch < best_val_loss:\n",
    "    best_val_loss = val_loss_per_epoch\n",
    "    torch.save(model.state_dict(), 'model.pt')\n",
    "    \n",
    "  print(\"Epoch: {}, Train Loss: {:.4f}, Train Accuracy: {:.2f}%\".format(epoch, train_loss_per_epoch, train_acc_per_epoch))\n",
    "  print(\"Epoch: {}, Validation Loss: {:.4f}, Validation Accuracy: {:.2f}%\\n\".format(epoch, val_loss_per_epoch, val_acc_per_epoch))"
   ]
  },
  {
   "cell_type": "markdown",
   "id": "718812ca",
   "metadata": {
    "papermill": {
     "duration": 0.053278,
     "end_time": "2022-05-01T19:53:46.363612",
     "exception": false,
     "start_time": "2022-05-01T19:53:46.310334",
     "status": "completed"
    },
    "tags": []
   },
   "source": [
    "## Evaluate model on test data"
   ]
  },
  {
   "cell_type": "code",
   "execution_count": 26,
   "id": "3d68ffc0",
   "metadata": {
    "execution": {
     "iopub.execute_input": "2022-05-01T19:53:46.491117Z",
     "iopub.status.busy": "2022-05-01T19:53:46.490121Z",
     "iopub.status.idle": "2022-05-01T19:53:47.559414Z",
     "shell.execute_reply": "2022-05-01T19:53:47.559982Z",
     "shell.execute_reply.started": "2022-04-17T08:58:07.546635Z"
    },
    "papermill": {
     "duration": 1.140617,
     "end_time": "2022-05-01T19:53:47.560185",
     "exception": false,
     "start_time": "2022-05-01T19:53:46.419568",
     "status": "completed"
    },
    "tags": []
   },
   "outputs": [
    {
     "name": "stdout",
     "output_type": "stream",
     "text": [
      "Loading the best trained model\n",
      "              precision    recall  f1-score   support\n",
      "\n",
      "           0       0.99      0.98      0.99      1175\n",
      "           1       0.98      0.99      0.98      1070\n",
      "\n",
      "    accuracy                           0.99      2245\n",
      "   macro avg       0.99      0.99      0.99      2245\n",
      "weighted avg       0.99      0.99      0.99      2245\n",
      "\n",
      "ROC AUC Score: 0.985539868761185\n"
     ]
    }
   ],
   "source": [
    "# Test\n",
    "\n",
    "#load the best training model\n",
    "print(\"Loading the best trained model\")\n",
    "model.load_state_dict(torch.load('model.pt'))\n",
    "\n",
    "with torch.no_grad():\n",
    "  input_ids_test = input_ids_test.to(device)\n",
    "  attention_mask_test = attention_mask_test.to(device)\n",
    "  outputs = model(input_ids_test, attention_mask_test)\n",
    "  logits = outputs.logits #output[0] #[batch_size, num_classes]\n",
    "  batch_logits = logits.detach().cpu().numpy() #shape: [batch_size, num_classes]  \n",
    "  preds = np.argmax(batch_logits, axis=1)\n",
    "    \n",
    "print(classification_report(output_test, preds))\n",
    "print(\"ROC AUC Score: {}\".format(roc_auc_score(y_true=output_test, y_score=preds)))"
   ]
  },
  {
   "cell_type": "markdown",
   "id": "2caaa95d",
   "metadata": {
    "papermill": {
     "duration": 0.053486,
     "end_time": "2022-05-01T19:53:47.669324",
     "exception": false,
     "start_time": "2022-05-01T19:53:47.615838",
     "status": "completed"
    },
    "tags": []
   },
   "source": [
    "## Generate the ROC Curve"
   ]
  },
  {
   "cell_type": "code",
   "execution_count": 27,
   "id": "665d8080",
   "metadata": {
    "execution": {
     "iopub.execute_input": "2022-05-01T19:53:47.783108Z",
     "iopub.status.busy": "2022-05-01T19:53:47.782290Z",
     "iopub.status.idle": "2022-05-01T19:53:47.942506Z",
     "shell.execute_reply": "2022-05-01T19:53:47.942090Z",
     "shell.execute_reply.started": "2022-04-17T08:58:16.002408Z"
    },
    "papermill": {
     "duration": 0.218855,
     "end_time": "2022-05-01T19:53:47.942625",
     "exception": false,
     "start_time": "2022-05-01T19:53:47.723770",
     "status": "completed"
    },
    "tags": []
   },
   "outputs": [
    {
     "data": {
      "image/png": "[encoded data removed]",
      "text/plain": [
       "<Figure size 432x288 with 1 Axes>"
      ]
     },
     "metadata": {
      "needs_background": "light"
     },
     "output_type": "display_data"
    }
   ],
   "source": [
    "# plot the roc curve\n",
    "fpr, tpr, _ = metrics.roc_curve(output_test,  preds)\n",
    "\n",
    "#create ROC curve\n",
    "plt.plot(fpr,tpr)\n",
    "plt.ylabel('True Positive Rate')\n",
    "plt.xlabel('False Positive Rate')\n",
    "plt.show()"
   ]
  },
  {
   "cell_type": "markdown",
   "id": "2314c811",
   "metadata": {
    "papermill": {
     "duration": 0.058597,
     "end_time": "2022-05-01T19:53:48.061199",
     "exception": false,
     "start_time": "2022-05-01T19:53:48.002602",
     "status": "completed"
    },
    "tags": []
   },
   "source": [
    "## Plot the confusion matrix "
   ]
  },
  {
   "cell_type": "code",
   "execution_count": 28,
   "id": "e6877c00",
   "metadata": {
    "execution": {
     "iopub.execute_input": "2022-05-01T19:53:48.202123Z",
     "iopub.status.busy": "2022-05-01T19:53:48.201305Z",
     "iopub.status.idle": "2022-05-01T19:53:48.443720Z",
     "shell.execute_reply": "2022-05-01T19:53:48.445137Z",
     "shell.execute_reply.started": "2022-04-17T08:58:23.30209Z"
    },
    "papermill": {
     "duration": 0.325415,
     "end_time": "2022-05-01T19:53:48.445392",
     "exception": false,
     "start_time": "2022-05-01T19:53:48.119977",
     "status": "completed"
    },
    "tags": []
   },
   "outputs": [
    {
     "data": {
      "image/png": "[encoded data removed]",
      "text/plain": [
       "<Figure size 576x576 with 2 Axes>"
      ]
     },
     "metadata": {
      "needs_background": "light"
     },
     "output_type": "display_data"
    }
   ],
   "source": [
    "def plot(predictions, labels):\n",
    "  fig = plt.figure(figsize=(8, 8))\n",
    "  ax = fig.add_subplot(1, 1, 1)\n",
    "  cm = metrics.confusion_matrix(labels, predictions)\n",
    "  cm = metrics.ConfusionMatrixDisplay(cm, display_labels=range(2))\n",
    "  cm.plot(values_format='d', cmap='Greens', ax=ax)\n",
    "\n",
    "plot(preds, output_test)"
   ]
  },
  {
   "cell_type": "markdown",
   "id": "d490af62",
   "metadata": {
    "papermill": {
     "duration": 0.091721,
     "end_time": "2022-05-01T19:53:48.638340",
     "exception": false,
     "start_time": "2022-05-01T19:53:48.546619",
     "status": "completed"
    },
    "tags": []
   },
   "source": [
    "## Look at some of the wrong predictions on the test data"
   ]
  },
  {
   "cell_type": "code",
   "execution_count": 29,
   "id": "ee73302f",
   "metadata": {
    "execution": {
     "iopub.execute_input": "2022-05-01T19:53:48.832536Z",
     "iopub.status.busy": "2022-05-01T19:53:48.831767Z",
     "iopub.status.idle": "2022-05-01T19:53:48.835962Z",
     "shell.execute_reply": "2022-05-01T19:53:48.836643Z",
     "shell.execute_reply.started": "2022-04-17T08:58:31.772706Z"
    },
    "papermill": {
     "duration": 0.106731,
     "end_time": "2022-05-01T19:53:48.836857",
     "exception": false,
     "start_time": "2022-05-01T19:53:48.730126",
     "status": "completed"
    },
    "tags": []
   },
   "outputs": [],
   "source": [
    "submission = test_df.copy()\n",
    "submission['prediction'] = preds\n",
    "submission.drop([\"title_length\", \"text_length\"], axis=1, inplace=True) "
   ]
  },
  {
   "cell_type": "markdown",
   "id": "08e5cd66",
   "metadata": {
    "papermill": {
     "duration": 0.104051,
     "end_time": "2022-05-01T19:53:49.036124",
     "exception": false,
     "start_time": "2022-05-01T19:53:48.932073",
     "status": "completed"
    },
    "tags": []
   },
   "source": [
    "Let's look at some of the wrong predictions made by the learned model on the test set"
   ]
  },
  {
   "cell_type": "markdown",
   "id": "c506ed6e",
   "metadata": {
    "papermill": {
     "duration": 0.099165,
     "end_time": "2022-05-01T19:53:49.232025",
     "exception": false,
     "start_time": "2022-05-01T19:53:49.132860",
     "status": "completed"
    },
    "tags": []
   },
   "source": [
    "Articles which were true but predicted as fake:"
   ]
  },
  {
   "cell_type": "code",
   "execution_count": 30,
   "id": "2e854b8e",
   "metadata": {
    "execution": {
     "iopub.execute_input": "2022-05-01T19:53:49.421570Z",
     "iopub.status.busy": "2022-05-01T19:53:49.420659Z",
     "iopub.status.idle": "2022-05-01T19:53:49.433759Z",
     "shell.execute_reply": "2022-05-01T19:53:49.434317Z",
     "shell.execute_reply.started": "2022-04-17T08:58:41.801898Z"
    },
    "papermill": {
     "duration": 0.111995,
     "end_time": "2022-05-01T19:53:49.434511",
     "exception": false,
     "start_time": "2022-05-01T19:53:49.322516",
     "status": "completed"
    },
    "tags": []
   },
   "outputs": [
    {
     "data": {
      "text/html": [
       "<div>\n",
       "<style scoped>\n",
       "    .dataframe tbody tr th:only-of-type {\n",
       "        vertical-align: middle;\n",
       "    }\n",
       "\n",
       "    .dataframe tbody tr th {\n",
       "        vertical-align: top;\n",
       "    }\n",
       "\n",
       "    .dataframe thead th {\n",
       "        text-align: right;\n",
       "    }\n",
       "</style>\n",
       "<table border=\"1\" class=\"dataframe\">\n",
       "  <thead>\n",
       "    <tr style=\"text-align: right;\">\n",
       "      <th></th>\n",
       "      <th>title</th>\n",
       "      <th>text</th>\n",
       "      <th>subject</th>\n",
       "      <th>date</th>\n",
       "      <th>output</th>\n",
       "      <th>prediction</th>\n",
       "    </tr>\n",
       "  </thead>\n",
       "  <tbody>\n",
       "    <tr>\n",
       "      <th>0</th>\n",
       "      <td>Trump says violence by anti-fascists proves hi...</td>\n",
       "      <td>WASHINGTON (Reuters) - President Donald Trump ...</td>\n",
       "      <td>politicsNews</td>\n",
       "      <td>September 14, 2017</td>\n",
       "      <td>1</td>\n",
       "      <td>0</td>\n",
       "    </tr>\n",
       "    <tr>\n",
       "      <th>1</th>\n",
       "      <td>Archived State Department briefing video delib...</td>\n",
       "      <td>WASHINGTON (Reuters) - Part of a U.S. State De...</td>\n",
       "      <td>politicsNews</td>\n",
       "      <td>June 1, 2016</td>\n",
       "      <td>1</td>\n",
       "      <td>0</td>\n",
       "    </tr>\n",
       "    <tr>\n",
       "      <th>2</th>\n",
       "      <td>Bernie Sanders action toy slouches, points and...</td>\n",
       "      <td>NEW YORK (Reuters) - Orders for a Bernie Sande...</td>\n",
       "      <td>politicsNews</td>\n",
       "      <td>February 25, 2016</td>\n",
       "      <td>1</td>\n",
       "      <td>0</td>\n",
       "    </tr>\n",
       "    <tr>\n",
       "      <th>3</th>\n",
       "      <td>Trump’s new EPA transition team draws from oil...</td>\n",
       "      <td>WASHINGTON (Reuters) - U.S. President Donald T...</td>\n",
       "      <td>politicsNews</td>\n",
       "      <td>January 24, 2017</td>\n",
       "      <td>1</td>\n",
       "      <td>0</td>\n",
       "    </tr>\n",
       "    <tr>\n",
       "      <th>4</th>\n",
       "      <td>Syrian migrant tells Germans: Cherish your dem...</td>\n",
       "      <td>AACHEN, Germany (Reuters) - Social Democrat Ma...</td>\n",
       "      <td>worldnews</td>\n",
       "      <td>September 23, 2017</td>\n",
       "      <td>1</td>\n",
       "      <td>0</td>\n",
       "    </tr>\n",
       "    <tr>\n",
       "      <th>5</th>\n",
       "      <td>Commentary: Manic or evasive - these veep guys...</td>\n",
       "      <td>After going through a week reminiscent of Napo...</td>\n",
       "      <td>politicsNews</td>\n",
       "      <td>October 5, 2016</td>\n",
       "      <td>1</td>\n",
       "      <td>0</td>\n",
       "    </tr>\n",
       "    <tr>\n",
       "      <th>6</th>\n",
       "      <td>Soccer: Born in Japan, playing for North Korea...</td>\n",
       "      <td>TOKYO (Reuters) - Born and raised in Japan, th...</td>\n",
       "      <td>worldnews</td>\n",
       "      <td>December 8, 2017</td>\n",
       "      <td>1</td>\n",
       "      <td>0</td>\n",
       "    </tr>\n",
       "    <tr>\n",
       "      <th>7</th>\n",
       "      <td>A dead dictator, his rusting boat and a fight ...</td>\n",
       "      <td>RIJEKA, Croatia (Reuters) - In a Croatian port...</td>\n",
       "      <td>worldnews</td>\n",
       "      <td>September 14, 2017</td>\n",
       "      <td>1</td>\n",
       "      <td>0</td>\n",
       "    </tr>\n",
       "    <tr>\n",
       "      <th>8</th>\n",
       "      <td>Grace Mugabe: the office worker who wanted to ...</td>\n",
       "      <td>HARARE (Reuters) - The spectacular rise and fa...</td>\n",
       "      <td>worldnews</td>\n",
       "      <td>November 17, 2017</td>\n",
       "      <td>1</td>\n",
       "      <td>0</td>\n",
       "    </tr>\n",
       "    <tr>\n",
       "      <th>9</th>\n",
       "      <td>Trump administration vastly expands global ant...</td>\n",
       "      <td>WASHINGTON (Reuters) - The Trump administratio...</td>\n",
       "      <td>politicsNews</td>\n",
       "      <td>May 15, 2017</td>\n",
       "      <td>1</td>\n",
       "      <td>0</td>\n",
       "    </tr>\n",
       "  </tbody>\n",
       "</table>\n",
       "</div>"
      ],
      "text/plain": [
       "                                               title  \\\n",
       "0  Trump says violence by anti-fascists proves hi...   \n",
       "1  Archived State Department briefing video delib...   \n",
       "2  Bernie Sanders action toy slouches, points and...   \n",
       "3  Trump’s new EPA transition team draws from oil...   \n",
       "4  Syrian migrant tells Germans: Cherish your dem...   \n",
       "5  Commentary: Manic or evasive - these veep guys...   \n",
       "6  Soccer: Born in Japan, playing for North Korea...   \n",
       "7  A dead dictator, his rusting boat and a fight ...   \n",
       "8  Grace Mugabe: the office worker who wanted to ...   \n",
       "9  Trump administration vastly expands global ant...   \n",
       "\n",
       "                                                text       subject  \\\n",
       "0  WASHINGTON (Reuters) - President Donald Trump ...  politicsNews   \n",
       "1  WASHINGTON (Reuters) - Part of a U.S. State De...  politicsNews   \n",
       "2  NEW YORK (Reuters) - Orders for a Bernie Sande...  politicsNews   \n",
       "3  WASHINGTON (Reuters) - U.S. President Donald T...  politicsNews   \n",
       "4  AACHEN, Germany (Reuters) - Social Democrat Ma...     worldnews   \n",
       "5  After going through a week reminiscent of Napo...  politicsNews   \n",
       "6  TOKYO (Reuters) - Born and raised in Japan, th...     worldnews   \n",
       "7  RIJEKA, Croatia (Reuters) - In a Croatian port...     worldnews   \n",
       "8  HARARE (Reuters) - The spectacular rise and fa...     worldnews   \n",
       "9  WASHINGTON (Reuters) - The Trump administratio...  politicsNews   \n",
       "\n",
       "                  date  output  prediction  \n",
       "0  September 14, 2017        1           0  \n",
       "1        June 1, 2016        1           0  \n",
       "2   February 25, 2016        1           0  \n",
       "3    January 24, 2017        1           0  \n",
       "4  September 23, 2017        1           0  \n",
       "5     October 5, 2016        1           0  \n",
       "6    December 8, 2017        1           0  \n",
       "7  September 14, 2017        1           0  \n",
       "8   November 17, 2017        1           0  \n",
       "9        May 15, 2017        1           0  "
      ]
     },
     "execution_count": 30,
     "metadata": {},
     "output_type": "execute_result"
    }
   ],
   "source": [
    "temp_df = submission[(submission[\"output\"]==1) & (submission[\"prediction\"]==0)]\n",
    "temp_df.reset_index(drop=True, inplace=True)\n",
    "temp_df"
   ]
  },
  {
   "cell_type": "markdown",
   "id": "2960d7fa",
   "metadata": {
    "papermill": {
     "duration": 0.091083,
     "end_time": "2022-05-01T19:53:49.616702",
     "exception": false,
     "start_time": "2022-05-01T19:53:49.525619",
     "status": "completed"
    },
    "tags": []
   },
   "source": [
    "Articles which were fake but predicted as true:"
   ]
  },
  {
   "cell_type": "code",
   "execution_count": 31,
   "id": "cfc39a94",
   "metadata": {
    "execution": {
     "iopub.execute_input": "2022-05-01T19:53:49.767008Z",
     "iopub.status.busy": "2022-05-01T19:53:49.766176Z",
     "iopub.status.idle": "2022-05-01T19:53:49.769404Z",
     "shell.execute_reply": "2022-05-01T19:53:49.769829Z",
     "shell.execute_reply.started": "2022-04-17T08:58:47.690358Z"
    },
    "papermill": {
     "duration": 0.074906,
     "end_time": "2022-05-01T19:53:49.769973",
     "exception": false,
     "start_time": "2022-05-01T19:53:49.695067",
     "status": "completed"
    },
    "tags": []
   },
   "outputs": [
    {
     "data": {
      "text/html": [
       "<div>\n",
       "<style scoped>\n",
       "    .dataframe tbody tr th:only-of-type {\n",
       "        vertical-align: middle;\n",
       "    }\n",
       "\n",
       "    .dataframe tbody tr th {\n",
       "        vertical-align: top;\n",
       "    }\n",
       "\n",
       "    .dataframe thead th {\n",
       "        text-align: right;\n",
       "    }\n",
       "</style>\n",
       "<table border=\"1\" class=\"dataframe\">\n",
       "  <thead>\n",
       "    <tr style=\"text-align: right;\">\n",
       "      <th></th>\n",
       "      <th>title</th>\n",
       "      <th>text</th>\n",
       "      <th>subject</th>\n",
       "      <th>date</th>\n",
       "      <th>output</th>\n",
       "      <th>prediction</th>\n",
       "    </tr>\n",
       "  </thead>\n",
       "  <tbody>\n",
       "    <tr>\n",
       "      <th>0</th>\n",
       "      <td>In White House Conference Call About Iran, St...</td>\n",
       "      <td>The contrast between the Obama White House and...</td>\n",
       "      <td>News</td>\n",
       "      <td>July 19, 2017</td>\n",
       "      <td>0</td>\n",
       "      <td>1</td>\n",
       "    </tr>\n",
       "    <tr>\n",
       "      <th>1</th>\n",
       "      <td>Donald Trump On Accusations Of Sexual Assault...</td>\n",
       "      <td>Donald Trump is backed into a corner. After he...</td>\n",
       "      <td>News</td>\n",
       "      <td>October 14, 2016</td>\n",
       "      <td>0</td>\n",
       "      <td>1</td>\n",
       "    </tr>\n",
       "    <tr>\n",
       "      <th>2</th>\n",
       "      <td>MITT ROMNEY TELLS TRUMP How Republicans Win El...</td>\n",
       "      <td>In case anyone missed it, Romney had the 2012 ...</td>\n",
       "      <td>politics</td>\n",
       "      <td>Oct 17, 2015</td>\n",
       "      <td>0</td>\n",
       "      <td>1</td>\n",
       "    </tr>\n",
       "    <tr>\n",
       "      <th>3</th>\n",
       "      <td>White House Staff Hiding From Reporters</td>\n",
       "      <td>Word has gone out through the White House that...</td>\n",
       "      <td>News</td>\n",
       "      <td>May 18, 2017</td>\n",
       "      <td>0</td>\n",
       "      <td>1</td>\n",
       "    </tr>\n",
       "    <tr>\n",
       "      <th>4</th>\n",
       "      <td>DEMOCRATS PUSH FOR BAN AND RESTRICTIONS ON ONL...</td>\n",
       "      <td>Once again, the gun grabbers are doing anythin...</td>\n",
       "      <td>Government News</td>\n",
       "      <td>May 17, 2015</td>\n",
       "      <td>0</td>\n",
       "      <td>1</td>\n",
       "    </tr>\n",
       "    <tr>\n",
       "      <th>5</th>\n",
       "      <td>Kentucky Republicans Propose Bill To Delay Sc...</td>\n",
       "      <td>Kentucky Republicans have decided to put the p...</td>\n",
       "      <td>News</td>\n",
       "      <td>January 9, 2016</td>\n",
       "      <td>0</td>\n",
       "      <td>1</td>\n",
       "    </tr>\n",
       "    <tr>\n",
       "      <th>6</th>\n",
       "      <td>Numbskull Republican Ignores History, Says Re...</td>\n",
       "      <td>Republican Rep. Ted Poe (R-Texas) spoke with F...</td>\n",
       "      <td>News</td>\n",
       "      <td>January 20, 2016</td>\n",
       "      <td>0</td>\n",
       "      <td>1</td>\n",
       "    </tr>\n",
       "    <tr>\n",
       "      <th>7</th>\n",
       "      <td>Senate Gives Trump Jr. Ultimatum: Respond By ...</td>\n",
       "      <td>The Senate Judiciary Committee just gave forme...</td>\n",
       "      <td>News</td>\n",
       "      <td>July 20, 2017</td>\n",
       "      <td>0</td>\n",
       "      <td>1</td>\n",
       "    </tr>\n",
       "    <tr>\n",
       "      <th>8</th>\n",
       "      <td>TRUMP AND CRUZ ANNOUNCE A JOINT RALLY TO PROTE...</td>\n",
       "      <td>This is great and so wonderful to see the posi...</td>\n",
       "      <td>politics</td>\n",
       "      <td>Aug 27, 2015</td>\n",
       "      <td>0</td>\n",
       "      <td>1</td>\n",
       "    </tr>\n",
       "    <tr>\n",
       "      <th>9</th>\n",
       "      <td>Donald Trump Hints That He Might Decide Not T...</td>\n",
       "      <td>Donald Trump just played coy and hinted that i...</td>\n",
       "      <td>News</td>\n",
       "      <td>July 7, 2016</td>\n",
       "      <td>0</td>\n",
       "      <td>1</td>\n",
       "    </tr>\n",
       "    <tr>\n",
       "      <th>10</th>\n",
       "      <td>Arizona Is Out Of Death-Penalty Drug Options</td>\n",
       "      <td>On May 31 the state of Arizona ran out of mida...</td>\n",
       "      <td>News</td>\n",
       "      <td>June 25, 2016</td>\n",
       "      <td>0</td>\n",
       "      <td>1</td>\n",
       "    </tr>\n",
       "    <tr>\n",
       "      <th>11</th>\n",
       "      <td>Trump Executive Order on Ethics Commitments Ba...</td>\n",
       "      <td>21st Century Wire says Reactions around the wo...</td>\n",
       "      <td>US_News</td>\n",
       "      <td>January 31, 2017</td>\n",
       "      <td>0</td>\n",
       "      <td>1</td>\n",
       "    </tr>\n",
       "    <tr>\n",
       "      <th>12</th>\n",
       "      <td>Trump Bans The Public From Calling The White ...</td>\n",
       "      <td>In another attempt to stifle freedom of expres...</td>\n",
       "      <td>News</td>\n",
       "      <td>January 23, 2017</td>\n",
       "      <td>0</td>\n",
       "      <td>1</td>\n",
       "    </tr>\n",
       "    <tr>\n",
       "      <th>13</th>\n",
       "      <td>Former Mexican President Challenges Trump To ...</td>\n",
       "      <td>As Donald Trump continues to attack Mexicans, ...</td>\n",
       "      <td>News</td>\n",
       "      <td>June 3, 2016</td>\n",
       "      <td>0</td>\n",
       "      <td>1</td>\n",
       "    </tr>\n",
       "    <tr>\n",
       "      <th>14</th>\n",
       "      <td>FLORIDA REJECTED Anti-Terror Bill Ahead Of Att...</td>\n",
       "      <td>Oh no! Florida killed a counter-terrorism bill...</td>\n",
       "      <td>Government News</td>\n",
       "      <td>Jun 13, 2016</td>\n",
       "      <td>0</td>\n",
       "      <td>1</td>\n",
       "    </tr>\n",
       "    <tr>\n",
       "      <th>15</th>\n",
       "      <td>SENATOR WANTS ANSWERS ON MISSING TSA BADGES AF...</td>\n",
       "      <td>This is a big deal and should be investigated....</td>\n",
       "      <td>Government News</td>\n",
       "      <td>May 28, 2015</td>\n",
       "      <td>0</td>\n",
       "      <td>1</td>\n",
       "    </tr>\n",
       "    <tr>\n",
       "      <th>16</th>\n",
       "      <td>NYC AVIS CAR RENTAL REFUSES To Rent Car To Isr...</td>\n",
       "      <td>Was this a case of anti-semitism? If it wasn t...</td>\n",
       "      <td>left-news</td>\n",
       "      <td>Nov 23, 2015</td>\n",
       "      <td>0</td>\n",
       "      <td>1</td>\n",
       "    </tr>\n",
       "    <tr>\n",
       "      <th>17</th>\n",
       "      <td>Support For Banning Assault Rifles Skyrockets...</td>\n",
       "      <td>After the horrific terrorist attack in Orlando...</td>\n",
       "      <td>News</td>\n",
       "      <td>June 15, 2016</td>\n",
       "      <td>0</td>\n",
       "      <td>1</td>\n",
       "    </tr>\n",
       "    <tr>\n",
       "      <th>18</th>\n",
       "      <td>Trump Abuses Power, Punishes Qatar For Refusi...</td>\n",
       "      <td>It turns out that Donald Trump was abusing his...</td>\n",
       "      <td>News</td>\n",
       "      <td>July 14, 2017</td>\n",
       "      <td>0</td>\n",
       "      <td>1</td>\n",
       "    </tr>\n",
       "    <tr>\n",
       "      <th>19</th>\n",
       "      <td>The U.S. Establishment vs The Rest of World</td>\n",
       "      <td>Thierry Meyssan Voltaire NetIt is a scandal wi...</td>\n",
       "      <td>Middle-east</td>\n",
       "      <td>August 1, 2017</td>\n",
       "      <td>0</td>\n",
       "      <td>1</td>\n",
       "    </tr>\n",
       "    <tr>\n",
       "      <th>20</th>\n",
       "      <td>Republican Senator Open To Voting For Hillary...</td>\n",
       "      <td>The Republican Party may be losing another sup...</td>\n",
       "      <td>News</td>\n",
       "      <td>June 9, 2016</td>\n",
       "      <td>0</td>\n",
       "      <td>1</td>\n",
       "    </tr>\n",
       "    <tr>\n",
       "      <th>21</th>\n",
       "      <td>NEW ORLEANS Bans Incredible Civil War Monuments</td>\n",
       "      <td>We ve been following this push to remove all s...</td>\n",
       "      <td>Government News</td>\n",
       "      <td>Dec 18, 2015</td>\n",
       "      <td>0</td>\n",
       "      <td>1</td>\n",
       "    </tr>\n",
       "    <tr>\n",
       "      <th>22</th>\n",
       "      <td>Kuwait Catches Trump In MAJOR Lie But He Refu...</td>\n",
       "      <td>Since Donald Trump enacted the travel ban from...</td>\n",
       "      <td>News</td>\n",
       "      <td>February 5, 2017</td>\n",
       "      <td>0</td>\n",
       "      <td>1</td>\n",
       "    </tr>\n",
       "  </tbody>\n",
       "</table>\n",
       "</div>"
      ],
      "text/plain": [
       "                                                title  \\\n",
       "0    In White House Conference Call About Iran, St...   \n",
       "1    Donald Trump On Accusations Of Sexual Assault...   \n",
       "2   MITT ROMNEY TELLS TRUMP How Republicans Win El...   \n",
       "3             White House Staff Hiding From Reporters   \n",
       "4   DEMOCRATS PUSH FOR BAN AND RESTRICTIONS ON ONL...   \n",
       "5    Kentucky Republicans Propose Bill To Delay Sc...   \n",
       "6    Numbskull Republican Ignores History, Says Re...   \n",
       "7    Senate Gives Trump Jr. Ultimatum: Respond By ...   \n",
       "8   TRUMP AND CRUZ ANNOUNCE A JOINT RALLY TO PROTE...   \n",
       "9    Donald Trump Hints That He Might Decide Not T...   \n",
       "10       Arizona Is Out Of Death-Penalty Drug Options   \n",
       "11  Trump Executive Order on Ethics Commitments Ba...   \n",
       "12   Trump Bans The Public From Calling The White ...   \n",
       "13   Former Mexican President Challenges Trump To ...   \n",
       "14  FLORIDA REJECTED Anti-Terror Bill Ahead Of Att...   \n",
       "15  SENATOR WANTS ANSWERS ON MISSING TSA BADGES AF...   \n",
       "16  NYC AVIS CAR RENTAL REFUSES To Rent Car To Isr...   \n",
       "17   Support For Banning Assault Rifles Skyrockets...   \n",
       "18   Trump Abuses Power, Punishes Qatar For Refusi...   \n",
       "19        The U.S. Establishment vs The Rest of World   \n",
       "20   Republican Senator Open To Voting For Hillary...   \n",
       "21    NEW ORLEANS Bans Incredible Civil War Monuments   \n",
       "22   Kuwait Catches Trump In MAJOR Lie But He Refu...   \n",
       "\n",
       "                                                 text          subject  \\\n",
       "0   The contrast between the Obama White House and...             News   \n",
       "1   Donald Trump is backed into a corner. After he...             News   \n",
       "2   In case anyone missed it, Romney had the 2012 ...         politics   \n",
       "3   Word has gone out through the White House that...             News   \n",
       "4   Once again, the gun grabbers are doing anythin...  Government News   \n",
       "5   Kentucky Republicans have decided to put the p...             News   \n",
       "6   Republican Rep. Ted Poe (R-Texas) spoke with F...             News   \n",
       "7   The Senate Judiciary Committee just gave forme...             News   \n",
       "8   This is great and so wonderful to see the posi...         politics   \n",
       "9   Donald Trump just played coy and hinted that i...             News   \n",
       "10  On May 31 the state of Arizona ran out of mida...             News   \n",
       "11  21st Century Wire says Reactions around the wo...          US_News   \n",
       "12  In another attempt to stifle freedom of expres...             News   \n",
       "13  As Donald Trump continues to attack Mexicans, ...             News   \n",
       "14  Oh no! Florida killed a counter-terrorism bill...  Government News   \n",
       "15  This is a big deal and should be investigated....  Government News   \n",
       "16  Was this a case of anti-semitism? If it wasn t...        left-news   \n",
       "17  After the horrific terrorist attack in Orlando...             News   \n",
       "18  It turns out that Donald Trump was abusing his...             News   \n",
       "19  Thierry Meyssan Voltaire NetIt is a scandal wi...      Middle-east   \n",
       "20  The Republican Party may be losing another sup...             News   \n",
       "21  We ve been following this push to remove all s...  Government News   \n",
       "22  Since Donald Trump enacted the travel ban from...             News   \n",
       "\n",
       "                date  output  prediction  \n",
       "0      July 19, 2017       0           1  \n",
       "1   October 14, 2016       0           1  \n",
       "2       Oct 17, 2015       0           1  \n",
       "3       May 18, 2017       0           1  \n",
       "4       May 17, 2015       0           1  \n",
       "5    January 9, 2016       0           1  \n",
       "6   January 20, 2016       0           1  \n",
       "7      July 20, 2017       0           1  \n",
       "8       Aug 27, 2015       0           1  \n",
       "9       July 7, 2016       0           1  \n",
       "10     June 25, 2016       0           1  \n",
       "11  January 31, 2017       0           1  \n",
       "12  January 23, 2017       0           1  \n",
       "13      June 3, 2016       0           1  \n",
       "14      Jun 13, 2016       0           1  \n",
       "15      May 28, 2015       0           1  \n",
       "16      Nov 23, 2015       0           1  \n",
       "17     June 15, 2016       0           1  \n",
       "18     July 14, 2017       0           1  \n",
       "19    August 1, 2017       0           1  \n",
       "20      June 9, 2016       0           1  \n",
       "21      Dec 18, 2015       0           1  \n",
       "22  February 5, 2017       0           1  "
      ]
     },
     "execution_count": 31,
     "metadata": {},
     "output_type": "execute_result"
    }
   ],
   "source": [
    "temp_df = submission[(submission[\"output\"]==0) & (submission[\"prediction\"]==1)]\n",
    "temp_df.reset_index(drop=True, inplace=True)\n",
    "temp_df"
   ]
  },
  {
   "cell_type": "markdown",
   "id": "f199d2a4",
   "metadata": {
    "papermill": {
     "duration": 0.05899,
     "end_time": "2022-05-01T19:53:49.885547",
     "exception": false,
     "start_time": "2022-05-01T19:53:49.826557",
     "status": "completed"
    },
    "tags": []
   },
   "source": [
    "That's it! \n",
    "\n",
    "<span style=\"color:blue\">If you found this notebook helpful, please leave your feedback or any suggestions, and kindly upvote. Thanks!</span>"
   ]
  }
 ],
 "metadata": {
  "kernelspec": {
   "display_name": "Python 3",
   "language": "python",
   "name": "python3"
  },
  "language_info": {
   "codemirror_mode": {
    "name": "ipython",
    "version": 3
   },
   "file_extension": ".py",
   "mimetype": "text/x-python",
   "name": "python",
   "nbconvert_exporter": "python",
   "pygments_lexer": "ipython3",
   "version": "3.7.12"
  },
  "papermill": {
   "default_parameters": {},
   "duration": 308.452813,
   "end_time": "2022-05-01T19:53:52.718027",
   "environment_variables": {},
   "exception": null,
   "input_path": "__notebook__.ipynb",
   "output_path": "__notebook__.ipynb",
   "parameters": {},
   "start_time": "2022-05-01T19:48:44.265214",
   "version": "2.3.3"
  },
  "widgets": {
   "application/vnd.jupyter.widget-state+json": {
    "state": {
     "06856abd29f54c32bb83253c2959614b": {
      "model_module": "@jupyter-widgets/controls",
      "model_module_version": "1.5.0",
      "model_name": "DescriptionStyleModel",
      "state": {
       "_model_module": "@jupyter-widgets/controls",
       "_model_module_version": "1.5.0",
       "_model_name": "DescriptionStyleModel",
       "_view_count": null,
       "_view_module": "@jupyter-widgets/base",
       "_view_module_version": "1.2.0",
       "_view_name": "StyleView",
       "description_width": ""
      }
     },
     "0b2960c537364a8aa4fc63a96d30db89": {
      "model_module": "@jupyter-widgets/controls",
      "model_module_version": "1.5.0",
      "model_name": "HTMLModel",
      "state": {
       "_dom_classes": [],
       "_model_module": "@jupyter-widgets/controls",
       "_model_module_version": "1.5.0",
       "_model_name": "HTMLModel",
       "_view_count": null,
       "_view_module": "@jupyter-widgets/controls",
       "_view_module_version": "1.5.0",
       "_view_name": "HTMLView",
       "description": "",
       "description_tooltip": null,
       "layout": "IPY_MODEL_e31cf90cea83438ea2c03bbc1a8f286c",
       "placeholder": "​",
       "style": "IPY_MODEL_06856abd29f54c32bb83253c2959614b",
       "value": " 226k/226k [00:00&lt;00:00, 872kB/s]"
      }
     },
     "0e1efe3267f143b6968e426994e0bea6": {
      "model_module": "@jupyter-widgets/base",
      "model_module_version": "1.2.0",
      "model_name": "LayoutModel",
      "state": {
       "_model_module": "@jupyter-widgets/base",
       "_model_module_version": "1.2.0",
       "_model_name": "LayoutModel",
       "_view_count": null,
       "_view_module": "@jupyter-widgets/base",
       "_view_module_version": "1.2.0",
       "_view_name": "LayoutView",
       "align_content": null,
       "align_items": null,
       "align_self": null,
       "border": null,
       "bottom": null,
       "display": null,
       "flex": null,
       "flex_flow": null,
       "grid_area": null,
       "grid_auto_columns": null,
       "grid_auto_flow": null,
       "grid_auto_rows": null,
       "grid_column": null,
       "grid_gap": null,
       "grid_row": null,
       "grid_template_areas": null,
       "grid_template_columns": null,
       "grid_template_rows": null,
       "height": null,
       "justify_content": null,
       "justify_items": null,
       "left": null,
       "margin": null,
       "max_height": null,
       "max_width": null,
       "min_height": null,
       "min_width": null,
       "object_fit": null,
       "object_position": null,
       "order": null,
       "overflow": null,
       "overflow_x": null,
       "overflow_y": null,
       "padding": null,
       "right": null,
       "top": null,
       "visibility": null,
       "width": null
      }
     },
     "119dc4c6f8aa49bfb0a96c18e5242281": {
      "model_module": "@jupyter-widgets/base",
      "model_module_version": "1.2.0",
      "model_name": "LayoutModel",
      "state": {
       "_model_module": "@jupyter-widgets/base",
       "_model_module_version": "1.2.0",
       "_model_name": "LayoutModel",
       "_view_count": null,
       "_view_module": "@jupyter-widgets/base",
       "_view_module_version": "1.2.0",
       "_view_name": "LayoutView",
       "align_content": null,
       "align_items": null,
       "align_self": null,
       "border": null,
       "bottom": null,
       "display": null,
       "flex": null,
       "flex_flow": null,
       "grid_area": null,
       "grid_auto_columns": null,
       "grid_auto_flow": null,
       "grid_auto_rows": null,
       "grid_column": null,
       "grid_gap": null,
       "grid_row": null,
       "grid_template_areas": null,
       "grid_template_columns": null,
       "grid_template_rows": null,
       "height": null,
       "justify_content": null,
       "justify_items": null,
       "left": null,
       "margin": null,
       "max_height": null,
       "max_width": null,
       "min_height": null,
       "min_width": null,
       "object_fit": null,
       "object_position": null,
       "order": null,
       "overflow": null,
       "overflow_x": null,
       "overflow_y": null,
       "padding": null,
       "right": null,
       "top": null,
       "visibility": null,
       "width": null
      }
     },
     "15167f9caad848c38593399df1baa34d": {
      "model_module": "@jupyter-widgets/controls",
      "model_module_version": "1.5.0",
      "model_name": "ProgressStyleModel",
      "state": {
       "_model_module": "@jupyter-widgets/controls",
       "_model_module_version": "1.5.0",
       "_model_name": "ProgressStyleModel",
       "_view_count": null,
       "_view_module": "@jupyter-widgets/base",
       "_view_module_version": "1.2.0",
       "_view_name": "StyleView",
       "bar_color": null,
       "description_width": ""
      }
     },
     "18c99583411f4b6ab761b8acd38ff457": {
      "model_module": "@jupyter-widgets/base",
      "model_module_version": "1.2.0",
      "model_name": "LayoutModel",
      "state": {
       "_model_module": "@jupyter-widgets/base",
       "_model_module_version": "1.2.0",
       "_model_name": "LayoutModel",
       "_view_count": null,
       "_view_module": "@jupyter-widgets/base",
       "_view_module_version": "1.2.0",
       "_view_name": "LayoutView",
       "align_content": null,
       "align_items": null,
       "align_self": null,
       "border": null,
       "bottom": null,
       "display": null,
       "flex": null,
       "flex_flow": null,
       "grid_area": null,
       "grid_auto_columns": null,
       "grid_auto_flow": null,
       "grid_auto_rows": null,
       "grid_column": null,
       "grid_gap": null,
       "grid_row": null,
       "grid_template_areas": null,
       "grid_template_columns": null,
       "grid_template_rows": null,
       "height": null,
       "justify_content": null,
       "justify_items": null,
       "left": null,
       "margin": null,
       "max_height": null,
       "max_width": null,
       "min_height": null,
       "min_width": null,
       "object_fit": null,
       "object_position": null,
       "order": null,
       "overflow": null,
       "overflow_x": null,
       "overflow_y": null,
       "padding": null,
       "right": null,
       "top": null,
       "visibility": null,
       "width": null
      }
     },
     "1bbe354de1cc404d8841c55553fcbbbf": {
      "model_module": "@jupyter-widgets/controls",
      "model_module_version": "1.5.0",
      "model_name": "ProgressStyleModel",
      "state": {
       "_model_module": "@jupyter-widgets/controls",
       "_model_module_version": "1.5.0",
       "_model_name": "ProgressStyleModel",
       "_view_count": null,
       "_view_module": "@jupyter-widgets/base",
       "_view_module_version": "1.2.0",
       "_view_name": "StyleView",
       "bar_color": null,
       "description_width": ""
      }
     },
     "1cdb1a3f0692420a867c99400b119930": {
      "model_module": "@jupyter-widgets/controls",
      "model_module_version": "1.5.0",
      "model_name": "HTMLModel",
      "state": {
       "_dom_classes": [],
       "_model_module": "@jupyter-widgets/controls",
       "_model_module_version": "1.5.0",
       "_model_name": "HTMLModel",
       "_view_count": null,
       "_view_module": "@jupyter-widgets/controls",
       "_view_module_version": "1.5.0",
       "_view_name": "HTMLView",
       "description": "",
       "description_tooltip": null,
       "layout": "IPY_MODEL_507c931eb3974a4a8801175f41ac9503",
       "placeholder": "​",
       "style": "IPY_MODEL_44412fee7d1b49cdaa973f57b2ee9271",
       "value": " 483/483 [00:00&lt;00:00, 16.7kB/s]"
      }
     },
     "22b97569792c48e59be1ee9f3d4815dd": {
      "model_module": "@jupyter-widgets/base",
      "model_module_version": "1.2.0",
      "model_name": "LayoutModel",
      "state": {
       "_model_module": "@jupyter-widgets/base",
       "_model_module_version": "1.2.0",
       "_model_name": "LayoutModel",
       "_view_count": null,
       "_view_module": "@jupyter-widgets/base",
       "_view_module_version": "1.2.0",
       "_view_name": "LayoutView",
       "align_content": null,
       "align_items": null,
       "align_self": null,
       "border": null,
       "bottom": null,
       "display": null,
       "flex": null,
       "flex_flow": null,
       "grid_area": null,
       "grid_auto_columns": null,
       "grid_auto_flow": null,
       "grid_auto_rows": null,
       "grid_column": null,
       "grid_gap": null,
       "grid_row": null,
       "grid_template_areas": null,
       "grid_template_columns": null,
       "grid_template_rows": null,
       "height": null,
       "justify_content": null,
       "justify_items": null,
       "left": null,
       "margin": null,
       "max_height": null,
       "max_width": null,
       "min_height": null,
       "min_width": null,
       "object_fit": null,
       "object_position": null,
       "order": null,
       "overflow": null,
       "overflow_x": null,
       "overflow_y": null,
       "padding": null,
       "right": null,
       "top": null,
       "visibility": null,
       "width": null
      }
     },
     "29c3b79b050943da9193d75ceb09dc50": {
      "model_module": "@jupyter-widgets/controls",
      "model_module_version": "1.5.0",
      "model_name": "DescriptionStyleModel",
      "state": {
       "_model_module": "@jupyter-widgets/controls",
       "_model_module_version": "1.5.0",
       "_model_name": "DescriptionStyleModel",
       "_view_count": null,
       "_view_module": "@jupyter-widgets/base",
       "_view_module_version": "1.2.0",
       "_view_name": "StyleView",
       "description_width": ""
      }
     },
     "2c707099f70f48a49a7a9e388fd7ede3": {
      "model_module": "@jupyter-widgets/controls",
      "model_module_version": "1.5.0",
      "model_name": "DescriptionStyleModel",
      "state": {
       "_model_module": "@jupyter-widgets/controls",
       "_model_module_version": "1.5.0",
       "_model_name": "DescriptionStyleModel",
       "_view_count": null,
       "_view_module": "@jupyter-widgets/base",
       "_view_module_version": "1.2.0",
       "_view_name": "StyleView",
       "description_width": ""
      }
     },
     "2eb7850ba8fd4c09b2be9d51a99d95b3": {
      "model_module": "@jupyter-widgets/base",
      "model_module_version": "1.2.0",
      "model_name": "LayoutModel",
      "state": {
       "_model_module": "@jupyter-widgets/base",
       "_model_module_version": "1.2.0",
       "_model_name": "LayoutModel",
       "_view_count": null,
       "_view_module": "@jupyter-widgets/base",
       "_view_module_version": "1.2.0",
       "_view_name": "LayoutView",
       "align_content": null,
       "align_items": null,
       "align_self": null,
       "border": null,
       "bottom": null,
       "display": null,
       "flex": null,
       "flex_flow": null,
       "grid_area": null,
       "grid_auto_columns": null,
       "grid_auto_flow": null,
       "grid_auto_rows": null,
       "grid_column": null,
       "grid_gap": null,
       "grid_row": null,
       "grid_template_areas": null,
       "grid_template_columns": null,
       "grid_template_rows": null,
       "height": null,
       "justify_content": null,
       "justify_items": null,
       "left": null,
       "margin": null,
       "max_height": null,
       "max_width": null,
       "min_height": null,
       "min_width": null,
       "object_fit": null,
       "object_position": null,
       "order": null,
       "overflow": null,
       "overflow_x": null,
       "overflow_y": null,
       "padding": null,
       "right": null,
       "top": null,
       "visibility": null,
       "width": null
      }
     },
     "30f422845ce44d758fb3f7a535ca5d7a": {
      "model_module": "@jupyter-widgets/controls",
      "model_module_version": "1.5.0",
      "model_name": "HBoxModel",
      "state": {
       "_dom_classes": [],
       "_model_module": "@jupyter-widgets/controls",
       "_model_module_version": "1.5.0",
       "_model_name": "HBoxModel",
       "_view_count": null,
       "_view_module": "@jupyter-widgets/controls",
       "_view_module_version": "1.5.0",
       "_view_name": "HBoxView",
       "box_style": "",
       "children": [
        "IPY_MODEL_d2fd7fcb531d47e9b8ba486817111cc7",
        "IPY_MODEL_4c7ab59525e54a3eb6ae31350b21da66",
        "IPY_MODEL_be25e98bf20c4663aadf8aaa92a8189a"
       ],
       "layout": "IPY_MODEL_460228549f454ab9ad8c666741ee6086"
      }
     },
     "344f55fbd9744265b436a3a1fff780a7": {
      "model_module": "@jupyter-widgets/base",
      "model_module_version": "1.2.0",
      "model_name": "LayoutModel",
      "state": {
       "_model_module": "@jupyter-widgets/base",
       "_model_module_version": "1.2.0",
       "_model_name": "LayoutModel",
       "_view_count": null,
       "_view_module": "@jupyter-widgets/base",
       "_view_module_version": "1.2.0",
       "_view_name": "LayoutView",
       "align_content": null,
       "align_items": null,
       "align_self": null,
       "border": null,
       "bottom": null,
       "display": null,
       "flex": null,
       "flex_flow": null,
       "grid_area": null,
       "grid_auto_columns": null,
       "grid_auto_flow": null,
       "grid_auto_rows": null,
       "grid_column": null,
       "grid_gap": null,
       "grid_row": null,
       "grid_template_areas": null,
       "grid_template_columns": null,
       "grid_template_rows": null,
       "height": null,
       "justify_content": null,
       "justify_items": null,
       "left": null,
       "margin": null,
       "max_height": null,
       "max_width": null,
       "min_height": null,
       "min_width": null,
       "object_fit": null,
       "object_position": null,
       "order": null,
       "overflow": null,
       "overflow_x": null,
       "overflow_y": null,
       "padding": null,
       "right": null,
       "top": null,
       "visibility": null,
       "width": null
      }
     },
     "44412fee7d1b49cdaa973f57b2ee9271": {
      "model_module": "@jupyter-widgets/controls",
      "model_module_version": "1.5.0",
      "model_name": "DescriptionStyleModel",
      "state": {
       "_model_module": "@jupyter-widgets/controls",
       "_model_module_version": "1.5.0",
       "_model_name": "DescriptionStyleModel",
       "_view_count": null,
       "_view_module": "@jupyter-widgets/base",
       "_view_module_version": "1.2.0",
       "_view_name": "StyleView",
       "description_width": ""
      }
     },
     "45424726245e46599bcbc068650b4cbe": {
      "model_module": "@jupyter-widgets/controls",
      "model_module_version": "1.5.0",
      "model_name": "DescriptionStyleModel",
      "state": {
       "_model_module": "@jupyter-widgets/controls",
       "_model_module_version": "1.5.0",
       "_model_name": "DescriptionStyleModel",
       "_view_count": null,
       "_view_module": "@jupyter-widgets/base",
       "_view_module_version": "1.2.0",
       "_view_name": "StyleView",
       "description_width": ""
      }
     },
     "460228549f454ab9ad8c666741ee6086": {
      "model_module": "@jupyter-widgets/base",
      "model_module_version": "1.2.0",
      "model_name": "LayoutModel",
      "state": {
       "_model_module": "@jupyter-widgets/base",
       "_model_module_version": "1.2.0",
       "_model_name": "LayoutModel",
       "_view_count": null,
       "_view_module": "@jupyter-widgets/base",
       "_view_module_version": "1.2.0",
       "_view_name": "LayoutView",
       "align_content": null,
       "align_items": null,
       "align_self": null,
       "border": null,
       "bottom": null,
       "display": null,
       "flex": null,
       "flex_flow": null,
       "grid_area": null,
       "grid_auto_columns": null,
       "grid_auto_flow": null,
       "grid_auto_rows": null,
       "grid_column": null,
       "grid_gap": null,
       "grid_row": null,
       "grid_template_areas": null,
       "grid_template_columns": null,
       "grid_template_rows": null,
       "height": null,
       "justify_content": null,
       "justify_items": null,
       "left": null,
       "margin": null,
       "max_height": null,
       "max_width": null,
       "min_height": null,
       "min_width": null,
       "object_fit": null,
       "object_position": null,
       "order": null,
       "overflow": null,
       "overflow_x": null,
       "overflow_y": null,
       "padding": null,
       "right": null,
       "top": null,
       "visibility": null,
       "width": null
      }
     },
     "474deba65ded4bceaa95c3e7be5e7d13": {
      "model_module": "@jupyter-widgets/controls",
      "model_module_version": "1.5.0",
      "model_name": "FloatProgressModel",
      "state": {
       "_dom_classes": [],
       "_model_module": "@jupyter-widgets/controls",
       "_model_module_version": "1.5.0",
       "_model_name": "FloatProgressModel",
       "_view_count": null,
       "_view_module": "@jupyter-widgets/controls",
       "_view_module_version": "1.5.0",
       "_view_name": "ProgressView",
       "bar_style": "success",
       "description": "",
       "description_tooltip": null,
       "layout": "IPY_MODEL_119dc4c6f8aa49bfb0a96c18e5242281",
       "max": 483.0,
       "min": 0.0,
       "orientation": "horizontal",
       "style": "IPY_MODEL_15167f9caad848c38593399df1baa34d",
       "value": 483.0
      }
     },
     "4c7ab59525e54a3eb6ae31350b21da66": {
      "model_module": "@jupyter-widgets/controls",
      "model_module_version": "1.5.0",
      "model_name": "FloatProgressModel",
      "state": {
       "_dom_classes": [],
       "_model_module": "@jupyter-widgets/controls",
       "_model_module_version": "1.5.0",
       "_model_name": "FloatProgressModel",
       "_view_count": null,
       "_view_module": "@jupyter-widgets/controls",
       "_view_module_version": "1.5.0",
       "_view_name": "ProgressView",
       "bar_style": "success",
       "description": "",
       "description_tooltip": null,
       "layout": "IPY_MODEL_e6138d0fbe8d4abab0d1cca5230d0b15",
       "max": 267967963.0,
       "min": 0.0,
       "orientation": "horizontal",
       "style": "IPY_MODEL_9463c27523d548028b9a653c112cb553",
       "value": 267967963.0
      }
     },
     "507c931eb3974a4a8801175f41ac9503": {
      "model_module": "@jupyter-widgets/base",
      "model_module_version": "1.2.0",
      "model_name": "LayoutModel",
      "state": {
       "_model_module": "@jupyter-widgets/base",
       "_model_module_version": "1.2.0",
       "_model_name": "LayoutModel",
       "_view_count": null,
       "_view_module": "@jupyter-widgets/base",
       "_view_module_version": "1.2.0",
       "_view_name": "LayoutView",
       "align_content": null,
       "align_items": null,
       "align_self": null,
       "border": null,
       "bottom": null,
       "display": null,
       "flex": null,
       "flex_flow": null,
       "grid_area": null,
       "grid_auto_columns": null,
       "grid_auto_flow": null,
       "grid_auto_rows": null,
       "grid_column": null,
       "grid_gap": null,
       "grid_row": null,
       "grid_template_areas": null,
       "grid_template_columns": null,
       "grid_template_rows": null,
       "height": null,
       "justify_content": null,
       "justify_items": null,
       "left": null,
       "margin": null,
       "max_height": null,
       "max_width": null,
       "min_height": null,
       "min_width": null,
       "object_fit": null,
       "object_position": null,
       "order": null,
       "overflow": null,
       "overflow_x": null,
       "overflow_y": null,
       "padding": null,
       "right": null,
       "top": null,
       "visibility": null,
       "width": null
      }
     },
     "50cac8bcea90469fbb9fd3efe3fd6903": {
      "model_module": "@jupyter-widgets/controls",
      "model_module_version": "1.5.0",
      "model_name": "HTMLModel",
      "state": {
       "_dom_classes": [],
       "_model_module": "@jupyter-widgets/controls",
       "_model_module_version": "1.5.0",
       "_model_name": "HTMLModel",
       "_view_count": null,
       "_view_module": "@jupyter-widgets/controls",
       "_view_module_version": "1.5.0",
       "_view_name": "HTMLView",
       "description": "",
       "description_tooltip": null,
       "layout": "IPY_MODEL_8f9b22dfd49a42868507011858f5f8d4",
       "placeholder": "​",
       "style": "IPY_MODEL_99b4a15d1f8240c5938c355de4fc0874",
       "value": "Downloading: 100%"
      }
     },
     "519dad9871bf425c878600897fe7a233": {
      "model_module": "@jupyter-widgets/controls",
      "model_module_version": "1.5.0",
      "model_name": "FloatProgressModel",
      "state": {
       "_dom_classes": [],
       "_model_module": "@jupyter-widgets/controls",
       "_model_module_version": "1.5.0",
       "_model_name": "FloatProgressModel",
       "_view_count": null,
       "_view_module": "@jupyter-widgets/controls",
       "_view_module_version": "1.5.0",
       "_view_name": "ProgressView",
       "bar_style": "success",
       "description": "",
       "description_tooltip": null,
       "layout": "IPY_MODEL_0e1efe3267f143b6968e426994e0bea6",
       "max": 466062.0,
       "min": 0.0,
       "orientation": "horizontal",
       "style": "IPY_MODEL_544df2f2608246c48ed77e3a0ccf7bb2",
       "value": 466062.0
      }
     },
     "53c15b638f9a49b4bc294c8c8b3d2c33": {
      "model_module": "@jupyter-widgets/controls",
      "model_module_version": "1.5.0",
      "model_name": "DescriptionStyleModel",
      "state": {
       "_model_module": "@jupyter-widgets/controls",
       "_model_module_version": "1.5.0",
       "_model_name": "DescriptionStyleModel",
       "_view_count": null,
       "_view_module": "@jupyter-widgets/base",
       "_view_module_version": "1.2.0",
       "_view_name": "StyleView",
       "description_width": ""
      }
     },
     "544866f1c35042d99bf4f6be77f4446c": {
      "model_module": "@jupyter-widgets/controls",
      "model_module_version": "1.5.0",
      "model_name": "HTMLModel",
      "state": {
       "_dom_classes": [],
       "_model_module": "@jupyter-widgets/controls",
       "_model_module_version": "1.5.0",
       "_model_name": "HTMLModel",
       "_view_count": null,
       "_view_module": "@jupyter-widgets/controls",
       "_view_module_version": "1.5.0",
       "_view_name": "HTMLView",
       "description": "",
       "description_tooltip": null,
       "layout": "IPY_MODEL_fa1bab55101c44e78a2f14d99f1e6994",
       "placeholder": "​",
       "style": "IPY_MODEL_86c406ded2924ed8990a2f486f00cea1",
       "value": "Downloading: 100%"
      }
     },
     "544df2f2608246c48ed77e3a0ccf7bb2": {
      "model_module": "@jupyter-widgets/controls",
      "model_module_version": "1.5.0",
      "model_name": "ProgressStyleModel",
      "state": {
       "_model_module": "@jupyter-widgets/controls",
       "_model_module_version": "1.5.0",
       "_model_name": "ProgressStyleModel",
       "_view_count": null,
       "_view_module": "@jupyter-widgets/base",
       "_view_module_version": "1.2.0",
       "_view_name": "StyleView",
       "bar_color": null,
       "description_width": ""
      }
     },
     "5c0f3196e310458ebe8dbebc7240490a": {
      "model_module": "@jupyter-widgets/base",
      "model_module_version": "1.2.0",
      "model_name": "LayoutModel",
      "state": {
       "_model_module": "@jupyter-widgets/base",
       "_model_module_version": "1.2.0",
       "_model_name": "LayoutModel",
       "_view_count": null,
       "_view_module": "@jupyter-widgets/base",
       "_view_module_version": "1.2.0",
       "_view_name": "LayoutView",
       "align_content": null,
       "align_items": null,
       "align_self": null,
       "border": null,
       "bottom": null,
       "display": null,
       "flex": null,
       "flex_flow": null,
       "grid_area": null,
       "grid_auto_columns": null,
       "grid_auto_flow": null,
       "grid_auto_rows": null,
       "grid_column": null,
       "grid_gap": null,
       "grid_row": null,
       "grid_template_areas": null,
       "grid_template_columns": null,
       "grid_template_rows": null,
       "height": null,
       "justify_content": null,
       "justify_items": null,
       "left": null,
       "margin": null,
       "max_height": null,
       "max_width": null,
       "min_height": null,
       "min_width": null,
       "object_fit": null,
       "object_position": null,
       "order": null,
       "overflow": null,
       "overflow_x": null,
       "overflow_y": null,
       "padding": null,
       "right": null,
       "top": null,
       "visibility": null,
       "width": null
      }
     },
     "640322f7d14842b29d858efcbc3503f8": {
      "model_module": "@jupyter-widgets/controls",
      "model_module_version": "1.5.0",
      "model_name": "HBoxModel",
      "state": {
       "_dom_classes": [],
       "_model_module": "@jupyter-widgets/controls",
       "_model_module_version": "1.5.0",
       "_model_name": "HBoxModel",
       "_view_count": null,
       "_view_module": "@jupyter-widgets/controls",
       "_view_module_version": "1.5.0",
       "_view_name": "HBoxView",
       "box_style": "",
       "children": [
        "IPY_MODEL_544866f1c35042d99bf4f6be77f4446c",
        "IPY_MODEL_6cdd3791b1e6494796bca02b2043d563",
        "IPY_MODEL_e80b207c01e440f4a7e2f89c7ee9b49d"
       ],
       "layout": "IPY_MODEL_8128d12a37b64005b7b2082f126d93ac"
      }
     },
     "64fe9afe236e4580998b7c310162698b": {
      "model_module": "@jupyter-widgets/controls",
      "model_module_version": "1.5.0",
      "model_name": "DescriptionStyleModel",
      "state": {
       "_model_module": "@jupyter-widgets/controls",
       "_model_module_version": "1.5.0",
       "_model_name": "DescriptionStyleModel",
       "_view_count": null,
       "_view_module": "@jupyter-widgets/base",
       "_view_module_version": "1.2.0",
       "_view_name": "StyleView",
       "description_width": ""
      }
     },
     "69ee2fe28d00427abded85b2610aebf0": {
      "model_module": "@jupyter-widgets/base",
      "model_module_version": "1.2.0",
      "model_name": "LayoutModel",
      "state": {
       "_model_module": "@jupyter-widgets/base",
       "_model_module_version": "1.2.0",
       "_model_name": "LayoutModel",
       "_view_count": null,
       "_view_module": "@jupyter-widgets/base",
       "_view_module_version": "1.2.0",
       "_view_name": "LayoutView",
       "align_content": null,
       "align_items": null,
       "align_self": null,
       "border": null,
       "bottom": null,
       "display": null,
       "flex": null,
       "flex_flow": null,
       "grid_area": null,
       "grid_auto_columns": null,
       "grid_auto_flow": null,
       "grid_auto_rows": null,
       "grid_column": null,
       "grid_gap": null,
       "grid_row": null,
       "grid_template_areas": null,
       "grid_template_columns": null,
       "grid_template_rows": null,
       "height": null,
       "justify_content": null,
       "justify_items": null,
       "left": null,
       "margin": null,
       "max_height": null,
       "max_width": null,
       "min_height": null,
       "min_width": null,
       "object_fit": null,
       "object_position": null,
       "order": null,
       "overflow": null,
       "overflow_x": null,
       "overflow_y": null,
       "padding": null,
       "right": null,
       "top": null,
       "visibility": null,
       "width": null
      }
     },
     "6cdd3791b1e6494796bca02b2043d563": {
      "model_module": "@jupyter-widgets/controls",
      "model_module_version": "1.5.0",
      "model_name": "FloatProgressModel",
      "state": {
       "_dom_classes": [],
       "_model_module": "@jupyter-widgets/controls",
       "_model_module_version": "1.5.0",
       "_model_name": "FloatProgressModel",
       "_view_count": null,
       "_view_module": "@jupyter-widgets/controls",
       "_view_module_version": "1.5.0",
       "_view_name": "ProgressView",
       "bar_style": "success",
       "description": "",
       "description_tooltip": null,
       "layout": "IPY_MODEL_76270488a4064ff4bc068758e18de8ae",
       "max": 28.0,
       "min": 0.0,
       "orientation": "horizontal",
       "style": "IPY_MODEL_9d3c5d91a62f4937b6aabb07b0b084ac",
       "value": 28.0
      }
     },
     "6d0b7d433cd84e2d953f3d199a1b4fe1": {
      "model_module": "@jupyter-widgets/controls",
      "model_module_version": "1.5.0",
      "model_name": "FloatProgressModel",
      "state": {
       "_dom_classes": [],
       "_model_module": "@jupyter-widgets/controls",
       "_model_module_version": "1.5.0",
       "_model_name": "FloatProgressModel",
       "_view_count": null,
       "_view_module": "@jupyter-widgets/controls",
       "_view_module_version": "1.5.0",
       "_view_name": "ProgressView",
       "bar_style": "success",
       "description": "",
       "description_tooltip": null,
       "layout": "IPY_MODEL_2eb7850ba8fd4c09b2be9d51a99d95b3",
       "max": 3.0,
       "min": 0.0,
       "orientation": "horizontal",
       "style": "IPY_MODEL_e7114772ea964d2db917551d574e2cb0",
       "value": 3.0
      }
     },
     "6ede239103a6463395cb5036a900efe0": {
      "model_module": "@jupyter-widgets/controls",
      "model_module_version": "1.5.0",
      "model_name": "DescriptionStyleModel",
      "state": {
       "_model_module": "@jupyter-widgets/controls",
       "_model_module_version": "1.5.0",
       "_model_name": "DescriptionStyleModel",
       "_view_count": null,
       "_view_module": "@jupyter-widgets/base",
       "_view_module_version": "1.2.0",
       "_view_name": "StyleView",
       "description_width": ""
      }
     },
     "76270488a4064ff4bc068758e18de8ae": {
      "model_module": "@jupyter-widgets/base",
      "model_module_version": "1.2.0",
      "model_name": "LayoutModel",
      "state": {
       "_model_module": "@jupyter-widgets/base",
       "_model_module_version": "1.2.0",
       "_model_name": "LayoutModel",
       "_view_count": null,
       "_view_module": "@jupyter-widgets/base",
       "_view_module_version": "1.2.0",
       "_view_name": "LayoutView",
       "align_content": null,
       "align_items": null,
       "align_self": null,
       "border": null,
       "bottom": null,
       "display": null,
       "flex": null,
       "flex_flow": null,
       "grid_area": null,
       "grid_auto_columns": null,
       "grid_auto_flow": null,
       "grid_auto_rows": null,
       "grid_column": null,
       "grid_gap": null,
       "grid_row": null,
       "grid_template_areas": null,
       "grid_template_columns": null,
       "grid_template_rows": null,
       "height": null,
       "justify_content": null,
       "justify_items": null,
       "left": null,
       "margin": null,
       "max_height": null,
       "max_width": null,
       "min_height": null,
       "min_width": null,
       "object_fit": null,
       "object_position": null,
       "order": null,
       "overflow": null,
       "overflow_x": null,
       "overflow_y": null,
       "padding": null,
       "right": null,
       "top": null,
       "visibility": null,
       "width": null
      }
     },
     "76c637f6170045daac906ef6a1ec4755": {
      "model_module": "@jupyter-widgets/base",
      "model_module_version": "1.2.0",
      "model_name": "LayoutModel",
      "state": {
       "_model_module": "@jupyter-widgets/base",
       "_model_module_version": "1.2.0",
       "_model_name": "LayoutModel",
       "_view_count": null,
       "_view_module": "@jupyter-widgets/base",
       "_view_module_version": "1.2.0",
       "_view_name": "LayoutView",
       "align_content": null,
       "align_items": null,
       "align_self": null,
       "border": null,
       "bottom": null,
       "display": null,
       "flex": null,
       "flex_flow": null,
       "grid_area": null,
       "grid_auto_columns": null,
       "grid_auto_flow": null,
       "grid_auto_rows": null,
       "grid_column": null,
       "grid_gap": null,
       "grid_row": null,
       "grid_template_areas": null,
       "grid_template_columns": null,
       "grid_template_rows": null,
       "height": null,
       "justify_content": null,
       "justify_items": null,
       "left": null,
       "margin": null,
       "max_height": null,
       "max_width": null,
       "min_height": null,
       "min_width": null,
       "object_fit": null,
       "object_position": null,
       "order": null,
       "overflow": null,
       "overflow_x": null,
       "overflow_y": null,
       "padding": null,
       "right": null,
       "top": null,
       "visibility": null,
       "width": null
      }
     },
     "8128d12a37b64005b7b2082f126d93ac": {
      "model_module": "@jupyter-widgets/base",
      "model_module_version": "1.2.0",
      "model_name": "LayoutModel",
      "state": {
       "_model_module": "@jupyter-widgets/base",
       "_model_module_version": "1.2.0",
       "_model_name": "LayoutModel",
       "_view_count": null,
       "_view_module": "@jupyter-widgets/base",
       "_view_module_version": "1.2.0",
       "_view_name": "LayoutView",
       "align_content": null,
       "align_items": null,
       "align_self": null,
       "border": null,
       "bottom": null,
       "display": null,
       "flex": null,
       "flex_flow": null,
       "grid_area": null,
       "grid_auto_columns": null,
       "grid_auto_flow": null,
       "grid_auto_rows": null,
       "grid_column": null,
       "grid_gap": null,
       "grid_row": null,
       "grid_template_areas": null,
       "grid_template_columns": null,
       "grid_template_rows": null,
       "height": null,
       "justify_content": null,
       "justify_items": null,
       "left": null,
       "margin": null,
       "max_height": null,
       "max_width": null,
       "min_height": null,
       "min_width": null,
       "object_fit": null,
       "object_position": null,
       "order": null,
       "overflow": null,
       "overflow_x": null,
       "overflow_y": null,
       "padding": null,
       "right": null,
       "top": null,
       "visibility": null,
       "width": null
      }
     },
     "8163de07b9c34c168a59f4423bcfa0d7": {
      "model_module": "@jupyter-widgets/controls",
      "model_module_version": "1.5.0",
      "model_name": "FloatProgressModel",
      "state": {
       "_dom_classes": [],
       "_model_module": "@jupyter-widgets/controls",
       "_model_module_version": "1.5.0",
       "_model_name": "FloatProgressModel",
       "_view_count": null,
       "_view_module": "@jupyter-widgets/controls",
       "_view_module_version": "1.5.0",
       "_view_name": "ProgressView",
       "bar_style": "success",
       "description": "",
       "description_tooltip": null,
       "layout": "IPY_MODEL_22b97569792c48e59be1ee9f3d4815dd",
       "max": 231508.0,
       "min": 0.0,
       "orientation": "horizontal",
       "style": "IPY_MODEL_1bbe354de1cc404d8841c55553fcbbbf",
       "value": 231508.0
      }
     },
     "86c406ded2924ed8990a2f486f00cea1": {
      "model_module": "@jupyter-widgets/controls",
      "model_module_version": "1.5.0",
      "model_name": "DescriptionStyleModel",
      "state": {
       "_model_module": "@jupyter-widgets/controls",
       "_model_module_version": "1.5.0",
       "_model_name": "DescriptionStyleModel",
       "_view_count": null,
       "_view_module": "@jupyter-widgets/base",
       "_view_module_version": "1.2.0",
       "_view_name": "StyleView",
       "description_width": ""
      }
     },
     "871195cb89f248048a847719d45741b7": {
      "model_module": "@jupyter-widgets/base",
      "model_module_version": "1.2.0",
      "model_name": "LayoutModel",
      "state": {
       "_model_module": "@jupyter-widgets/base",
       "_model_module_version": "1.2.0",
       "_model_name": "LayoutModel",
       "_view_count": null,
       "_view_module": "@jupyter-widgets/base",
       "_view_module_version": "1.2.0",
       "_view_name": "LayoutView",
       "align_content": null,
       "align_items": null,
       "align_self": null,
       "border": null,
       "bottom": null,
       "display": null,
       "flex": null,
       "flex_flow": null,
       "grid_area": null,
       "grid_auto_columns": null,
       "grid_auto_flow": null,
       "grid_auto_rows": null,
       "grid_column": null,
       "grid_gap": null,
       "grid_row": null,
       "grid_template_areas": null,
       "grid_template_columns": null,
       "grid_template_rows": null,
       "height": null,
       "justify_content": null,
       "justify_items": null,
       "left": null,
       "margin": null,
       "max_height": null,
       "max_width": null,
       "min_height": null,
       "min_width": null,
       "object_fit": null,
       "object_position": null,
       "order": null,
       "overflow": null,
       "overflow_x": null,
       "overflow_y": null,
       "padding": null,
       "right": null,
       "top": null,
       "visibility": null,
       "width": null
      }
     },
     "876339b9045d43fea074e24bd3292a13": {
      "model_module": "@jupyter-widgets/controls",
      "model_module_version": "1.5.0",
      "model_name": "HBoxModel",
      "state": {
       "_dom_classes": [],
       "_model_module": "@jupyter-widgets/controls",
       "_model_module_version": "1.5.0",
       "_model_name": "HBoxModel",
       "_view_count": null,
       "_view_module": "@jupyter-widgets/controls",
       "_view_module_version": "1.5.0",
       "_view_name": "HBoxView",
       "box_style": "",
       "children": [
        "IPY_MODEL_d835b3a429ad4d2084bb252171075402",
        "IPY_MODEL_519dad9871bf425c878600897fe7a233",
        "IPY_MODEL_b65ebc6a32ce4c778524ac28286fc008"
       ],
       "layout": "IPY_MODEL_76c637f6170045daac906ef6a1ec4755"
      }
     },
     "8f9b22dfd49a42868507011858f5f8d4": {
      "model_module": "@jupyter-widgets/base",
      "model_module_version": "1.2.0",
      "model_name": "LayoutModel",
      "state": {
       "_model_module": "@jupyter-widgets/base",
       "_model_module_version": "1.2.0",
       "_model_name": "LayoutModel",
       "_view_count": null,
       "_view_module": "@jupyter-widgets/base",
       "_view_module_version": "1.2.0",
       "_view_name": "LayoutView",
       "align_content": null,
       "align_items": null,
       "align_self": null,
       "border": null,
       "bottom": null,
       "display": null,
       "flex": null,
       "flex_flow": null,
       "grid_area": null,
       "grid_auto_columns": null,
       "grid_auto_flow": null,
       "grid_auto_rows": null,
       "grid_column": null,
       "grid_gap": null,
       "grid_row": null,
       "grid_template_areas": null,
       "grid_template_columns": null,
       "grid_template_rows": null,
       "height": null,
       "justify_content": null,
       "justify_items": null,
       "left": null,
       "margin": null,
       "max_height": null,
       "max_width": null,
       "min_height": null,
       "min_width": null,
       "object_fit": null,
       "object_position": null,
       "order": null,
       "overflow": null,
       "overflow_x": null,
       "overflow_y": null,
       "padding": null,
       "right": null,
       "top": null,
       "visibility": null,
       "width": null
      }
     },
     "9463c27523d548028b9a653c112cb553": {
      "model_module": "@jupyter-widgets/controls",
      "model_module_version": "1.5.0",
      "model_name": "ProgressStyleModel",
      "state": {
       "_model_module": "@jupyter-widgets/controls",
       "_model_module_version": "1.5.0",
       "_model_name": "ProgressStyleModel",
       "_view_count": null,
       "_view_module": "@jupyter-widgets/base",
       "_view_module_version": "1.2.0",
       "_view_name": "StyleView",
       "bar_color": null,
       "description_width": ""
      }
     },
     "99b4a15d1f8240c5938c355de4fc0874": {
      "model_module": "@jupyter-widgets/controls",
      "model_module_version": "1.5.0",
      "model_name": "DescriptionStyleModel",
      "state": {
       "_model_module": "@jupyter-widgets/controls",
       "_model_module_version": "1.5.0",
       "_model_name": "DescriptionStyleModel",
       "_view_count": null,
       "_view_module": "@jupyter-widgets/base",
       "_view_module_version": "1.2.0",
       "_view_name": "StyleView",
       "description_width": ""
      }
     },
     "9c060fd3eb674c94a8f0cfab655285a0": {
      "model_module": "@jupyter-widgets/controls",
      "model_module_version": "1.5.0",
      "model_name": "HBoxModel",
      "state": {
       "_dom_classes": [],
       "_model_module": "@jupyter-widgets/controls",
       "_model_module_version": "1.5.0",
       "_model_name": "HBoxModel",
       "_view_count": null,
       "_view_module": "@jupyter-widgets/controls",
       "_view_module_version": "1.5.0",
       "_view_name": "HBoxView",
       "box_style": "",
       "children": [
        "IPY_MODEL_50cac8bcea90469fbb9fd3efe3fd6903",
        "IPY_MODEL_8163de07b9c34c168a59f4423bcfa0d7",
        "IPY_MODEL_0b2960c537364a8aa4fc63a96d30db89"
       ],
       "layout": "IPY_MODEL_871195cb89f248048a847719d45741b7"
      }
     },
     "9d3c5d91a62f4937b6aabb07b0b084ac": {
      "model_module": "@jupyter-widgets/controls",
      "model_module_version": "1.5.0",
      "model_name": "ProgressStyleModel",
      "state": {
       "_model_module": "@jupyter-widgets/controls",
       "_model_module_version": "1.5.0",
       "_model_name": "ProgressStyleModel",
       "_view_count": null,
       "_view_module": "@jupyter-widgets/base",
       "_view_module_version": "1.2.0",
       "_view_name": "StyleView",
       "bar_color": null,
       "description_width": ""
      }
     },
     "a8d5d9f5bdd047f4bb668822d6e8dc2b": {
      "model_module": "@jupyter-widgets/base",
      "model_module_version": "1.2.0",
      "model_name": "LayoutModel",
      "state": {
       "_model_module": "@jupyter-widgets/base",
       "_model_module_version": "1.2.0",
       "_model_name": "LayoutModel",
       "_view_count": null,
       "_view_module": "@jupyter-widgets/base",
       "_view_module_version": "1.2.0",
       "_view_name": "LayoutView",
       "align_content": null,
       "align_items": null,
       "align_self": null,
       "border": null,
       "bottom": null,
       "display": null,
       "flex": null,
       "flex_flow": null,
       "grid_area": null,
       "grid_auto_columns": null,
       "grid_auto_flow": null,
       "grid_auto_rows": null,
       "grid_column": null,
       "grid_gap": null,
       "grid_row": null,
       "grid_template_areas": null,
       "grid_template_columns": null,
       "grid_template_rows": null,
       "height": null,
       "justify_content": null,
       "justify_items": null,
       "left": null,
       "margin": null,
       "max_height": null,
       "max_width": null,
       "min_height": null,
       "min_width": null,
       "object_fit": null,
       "object_position": null,
       "order": null,
       "overflow": null,
       "overflow_x": null,
       "overflow_y": null,
       "padding": null,
       "right": null,
       "top": null,
       "visibility": null,
       "width": null
      }
     },
     "b255633eab0f47f780f2461f684e5f12": {
      "model_module": "@jupyter-widgets/controls",
      "model_module_version": "1.5.0",
      "model_name": "HBoxModel",
      "state": {
       "_dom_classes": [],
       "_model_module": "@jupyter-widgets/controls",
       "_model_module_version": "1.5.0",
       "_model_name": "HBoxModel",
       "_view_count": null,
       "_view_module": "@jupyter-widgets/controls",
       "_view_module_version": "1.5.0",
       "_view_name": "HBoxView",
       "box_style": "",
       "children": [
        "IPY_MODEL_f7afcfb602a5451f8a5e3385dbeaa87a",
        "IPY_MODEL_6d0b7d433cd84e2d953f3d199a1b4fe1",
        "IPY_MODEL_f236443817534eee96d3efc94b5bbe96"
       ],
       "layout": "IPY_MODEL_344f55fbd9744265b436a3a1fff780a7"
      }
     },
     "b40c59b63787447a9eb881310fec1000": {
      "model_module": "@jupyter-widgets/base",
      "model_module_version": "1.2.0",
      "model_name": "LayoutModel",
      "state": {
       "_model_module": "@jupyter-widgets/base",
       "_model_module_version": "1.2.0",
       "_model_name": "LayoutModel",
       "_view_count": null,
       "_view_module": "@jupyter-widgets/base",
       "_view_module_version": "1.2.0",
       "_view_name": "LayoutView",
       "align_content": null,
       "align_items": null,
       "align_self": null,
       "border": null,
       "bottom": null,
       "display": null,
       "flex": null,
       "flex_flow": null,
       "grid_area": null,
       "grid_auto_columns": null,
       "grid_auto_flow": null,
       "grid_auto_rows": null,
       "grid_column": null,
       "grid_gap": null,
       "grid_row": null,
       "grid_template_areas": null,
       "grid_template_columns": null,
       "grid_template_rows": null,
       "height": null,
       "justify_content": null,
       "justify_items": null,
       "left": null,
       "margin": null,
       "max_height": null,
       "max_width": null,
       "min_height": null,
       "min_width": null,
       "object_fit": null,
       "object_position": null,
       "order": null,
       "overflow": null,
       "overflow_x": null,
       "overflow_y": null,
       "padding": null,
       "right": null,
       "top": null,
       "visibility": null,
       "width": null
      }
     },
     "b65ebc6a32ce4c778524ac28286fc008": {
      "model_module": "@jupyter-widgets/controls",
      "model_module_version": "1.5.0",
      "model_name": "HTMLModel",
      "state": {
       "_dom_classes": [],
       "_model_module": "@jupyter-widgets/controls",
       "_model_module_version": "1.5.0",
       "_model_name": "HTMLModel",
       "_view_count": null,
       "_view_module": "@jupyter-widgets/controls",
       "_view_module_version": "1.5.0",
       "_view_name": "HTMLView",
       "description": "",
       "description_tooltip": null,
       "layout": "IPY_MODEL_a8d5d9f5bdd047f4bb668822d6e8dc2b",
       "placeholder": "​",
       "style": "IPY_MODEL_64fe9afe236e4580998b7c310162698b",
       "value": " 455k/455k [00:00&lt;00:00, 899kB/s]"
      }
     },
     "be25e98bf20c4663aadf8aaa92a8189a": {
      "model_module": "@jupyter-widgets/controls",
      "model_module_version": "1.5.0",
      "model_name": "HTMLModel",
      "state": {
       "_dom_classes": [],
       "_model_module": "@jupyter-widgets/controls",
       "_model_module_version": "1.5.0",
       "_model_name": "HTMLModel",
       "_view_count": null,
       "_view_module": "@jupyter-widgets/controls",
       "_view_module_version": "1.5.0",
       "_view_name": "HTMLView",
       "description": "",
       "description_tooltip": null,
       "layout": "IPY_MODEL_e18e4f3cc2cb4d2dbc164ad41b8bfcd3",
       "placeholder": "​",
       "style": "IPY_MODEL_45424726245e46599bcbc068650b4cbe",
       "value": " 256M/256M [00:13&lt;00:00, 16.4MB/s]"
      }
     },
     "c1a1d83db54746baadf0621a45206b4f": {
      "model_module": "@jupyter-widgets/controls",
      "model_module_version": "1.5.0",
      "model_name": "DescriptionStyleModel",
      "state": {
       "_model_module": "@jupyter-widgets/controls",
       "_model_module_version": "1.5.0",
       "_model_name": "DescriptionStyleModel",
       "_view_count": null,
       "_view_module": "@jupyter-widgets/base",
       "_view_module_version": "1.2.0",
       "_view_name": "StyleView",
       "description_width": ""
      }
     },
     "c630183ede6b4715a88e9e14e8ea4249": {
      "model_module": "@jupyter-widgets/controls",
      "model_module_version": "1.5.0",
      "model_name": "HBoxModel",
      "state": {
       "_dom_classes": [],
       "_model_module": "@jupyter-widgets/controls",
       "_model_module_version": "1.5.0",
       "_model_name": "HBoxModel",
       "_view_count": null,
       "_view_module": "@jupyter-widgets/controls",
       "_view_module_version": "1.5.0",
       "_view_name": "HBoxView",
       "box_style": "",
       "children": [
        "IPY_MODEL_d622beda6a574eb1ad3fc639b3d0f514",
        "IPY_MODEL_474deba65ded4bceaa95c3e7be5e7d13",
        "IPY_MODEL_1cdb1a3f0692420a867c99400b119930"
       ],
       "layout": "IPY_MODEL_f197166bed1e46be89e104177db87af6"
      }
     },
     "d2fd7fcb531d47e9b8ba486817111cc7": {
      "model_module": "@jupyter-widgets/controls",
      "model_module_version": "1.5.0",
      "model_name": "HTMLModel",
      "state": {
       "_dom_classes": [],
       "_model_module": "@jupyter-widgets/controls",
       "_model_module_version": "1.5.0",
       "_model_name": "HTMLModel",
       "_view_count": null,
       "_view_module": "@jupyter-widgets/controls",
       "_view_module_version": "1.5.0",
       "_view_name": "HTMLView",
       "description": "",
       "description_tooltip": null,
       "layout": "IPY_MODEL_69ee2fe28d00427abded85b2610aebf0",
       "placeholder": "​",
       "style": "IPY_MODEL_2c707099f70f48a49a7a9e388fd7ede3",
       "value": "Downloading: 100%"
      }
     },
     "d622beda6a574eb1ad3fc639b3d0f514": {
      "model_module": "@jupyter-widgets/controls",
      "model_module_version": "1.5.0",
      "model_name": "HTMLModel",
      "state": {
       "_dom_classes": [],
       "_model_module": "@jupyter-widgets/controls",
       "_model_module_version": "1.5.0",
       "_model_name": "HTMLModel",
       "_view_count": null,
       "_view_module": "@jupyter-widgets/controls",
       "_view_module_version": "1.5.0",
       "_view_name": "HTMLView",
       "description": "",
       "description_tooltip": null,
       "layout": "IPY_MODEL_18c99583411f4b6ab761b8acd38ff457",
       "placeholder": "​",
       "style": "IPY_MODEL_6ede239103a6463395cb5036a900efe0",
       "value": "Downloading: 100%"
      }
     },
     "d6f66d8b02744988945144775cc8826d": {
      "model_module": "@jupyter-widgets/base",
      "model_module_version": "1.2.0",
      "model_name": "LayoutModel",
      "state": {
       "_model_module": "@jupyter-widgets/base",
       "_model_module_version": "1.2.0",
       "_model_name": "LayoutModel",
       "_view_count": null,
       "_view_module": "@jupyter-widgets/base",
       "_view_module_version": "1.2.0",
       "_view_name": "LayoutView",
       "align_content": null,
       "align_items": null,
       "align_self": null,
       "border": null,
       "bottom": null,
       "display": null,
       "flex": null,
       "flex_flow": null,
       "grid_area": null,
       "grid_auto_columns": null,
       "grid_auto_flow": null,
       "grid_auto_rows": null,
       "grid_column": null,
       "grid_gap": null,
       "grid_row": null,
       "grid_template_areas": null,
       "grid_template_columns": null,
       "grid_template_rows": null,
       "height": null,
       "justify_content": null,
       "justify_items": null,
       "left": null,
       "margin": null,
       "max_height": null,
       "max_width": null,
       "min_height": null,
       "min_width": null,
       "object_fit": null,
       "object_position": null,
       "order": null,
       "overflow": null,
       "overflow_x": null,
       "overflow_y": null,
       "padding": null,
       "right": null,
       "top": null,
       "visibility": null,
       "width": null
      }
     },
     "d79cc6edf4994fb7ba64dac2983ff9e8": {
      "model_module": "@jupyter-widgets/controls",
      "model_module_version": "1.5.0",
      "model_name": "DescriptionStyleModel",
      "state": {
       "_model_module": "@jupyter-widgets/controls",
       "_model_module_version": "1.5.0",
       "_model_name": "DescriptionStyleModel",
       "_view_count": null,
       "_view_module": "@jupyter-widgets/base",
       "_view_module_version": "1.2.0",
       "_view_name": "StyleView",
       "description_width": ""
      }
     },
     "d835b3a429ad4d2084bb252171075402": {
      "model_module": "@jupyter-widgets/controls",
      "model_module_version": "1.5.0",
      "model_name": "HTMLModel",
      "state": {
       "_dom_classes": [],
       "_model_module": "@jupyter-widgets/controls",
       "_model_module_version": "1.5.0",
       "_model_name": "HTMLModel",
       "_view_count": null,
       "_view_module": "@jupyter-widgets/controls",
       "_view_module_version": "1.5.0",
       "_view_name": "HTMLView",
       "description": "",
       "description_tooltip": null,
       "layout": "IPY_MODEL_dddfe65b3f364676ad63da187910d5ef",
       "placeholder": "​",
       "style": "IPY_MODEL_c1a1d83db54746baadf0621a45206b4f",
       "value": "Downloading: 100%"
      }
     },
     "dddfe65b3f364676ad63da187910d5ef": {
      "model_module": "@jupyter-widgets/base",
      "model_module_version": "1.2.0",
      "model_name": "LayoutModel",
      "state": {
       "_model_module": "@jupyter-widgets/base",
       "_model_module_version": "1.2.0",
       "_model_name": "LayoutModel",
       "_view_count": null,
       "_view_module": "@jupyter-widgets/base",
       "_view_module_version": "1.2.0",
       "_view_name": "LayoutView",
       "align_content": null,
       "align_items": null,
       "align_self": null,
       "border": null,
       "bottom": null,
       "display": null,
       "flex": null,
       "flex_flow": null,
       "grid_area": null,
       "grid_auto_columns": null,
       "grid_auto_flow": null,
       "grid_auto_rows": null,
       "grid_column": null,
       "grid_gap": null,
       "grid_row": null,
       "grid_template_areas": null,
       "grid_template_columns": null,
       "grid_template_rows": null,
       "height": null,
       "justify_content": null,
       "justify_items": null,
       "left": null,
       "margin": null,
       "max_height": null,
       "max_width": null,
       "min_height": null,
       "min_width": null,
       "object_fit": null,
       "object_position": null,
       "order": null,
       "overflow": null,
       "overflow_x": null,
       "overflow_y": null,
       "padding": null,
       "right": null,
       "top": null,
       "visibility": null,
       "width": null
      }
     },
     "e18e4f3cc2cb4d2dbc164ad41b8bfcd3": {
      "model_module": "@jupyter-widgets/base",
      "model_module_version": "1.2.0",
      "model_name": "LayoutModel",
      "state": {
       "_model_module": "@jupyter-widgets/base",
       "_model_module_version": "1.2.0",
       "_model_name": "LayoutModel",
       "_view_count": null,
       "_view_module": "@jupyter-widgets/base",
       "_view_module_version": "1.2.0",
       "_view_name": "LayoutView",
       "align_content": null,
       "align_items": null,
       "align_self": null,
       "border": null,
       "bottom": null,
       "display": null,
       "flex": null,
       "flex_flow": null,
       "grid_area": null,
       "grid_auto_columns": null,
       "grid_auto_flow": null,
       "grid_auto_rows": null,
       "grid_column": null,
       "grid_gap": null,
       "grid_row": null,
       "grid_template_areas": null,
       "grid_template_columns": null,
       "grid_template_rows": null,
       "height": null,
       "justify_content": null,
       "justify_items": null,
       "left": null,
       "margin": null,
       "max_height": null,
       "max_width": null,
       "min_height": null,
       "min_width": null,
       "object_fit": null,
       "object_position": null,
       "order": null,
       "overflow": null,
       "overflow_x": null,
       "overflow_y": null,
       "padding": null,
       "right": null,
       "top": null,
       "visibility": null,
       "width": null
      }
     },
     "e31cf90cea83438ea2c03bbc1a8f286c": {
      "model_module": "@jupyter-widgets/base",
      "model_module_version": "1.2.0",
      "model_name": "LayoutModel",
      "state": {
       "_model_module": "@jupyter-widgets/base",
       "_model_module_version": "1.2.0",
       "_model_name": "LayoutModel",
       "_view_count": null,
       "_view_module": "@jupyter-widgets/base",
       "_view_module_version": "1.2.0",
       "_view_name": "LayoutView",
       "align_content": null,
       "align_items": null,
       "align_self": null,
       "border": null,
       "bottom": null,
       "display": null,
       "flex": null,
       "flex_flow": null,
       "grid_area": null,
       "grid_auto_columns": null,
       "grid_auto_flow": null,
       "grid_auto_rows": null,
       "grid_column": null,
       "grid_gap": null,
       "grid_row": null,
       "grid_template_areas": null,
       "grid_template_columns": null,
       "grid_template_rows": null,
       "height": null,
       "justify_content": null,
       "justify_items": null,
       "left": null,
       "margin": null,
       "max_height": null,
       "max_width": null,
       "min_height": null,
       "min_width": null,
       "object_fit": null,
       "object_position": null,
       "order": null,
       "overflow": null,
       "overflow_x": null,
       "overflow_y": null,
       "padding": null,
       "right": null,
       "top": null,
       "visibility": null,
       "width": null
      }
     },
     "e6138d0fbe8d4abab0d1cca5230d0b15": {
      "model_module": "@jupyter-widgets/base",
      "model_module_version": "1.2.0",
      "model_name": "LayoutModel",
      "state": {
       "_model_module": "@jupyter-widgets/base",
       "_model_module_version": "1.2.0",
       "_model_name": "LayoutModel",
       "_view_count": null,
       "_view_module": "@jupyter-widgets/base",
       "_view_module_version": "1.2.0",
       "_view_name": "LayoutView",
       "align_content": null,
       "align_items": null,
       "align_self": null,
       "border": null,
       "bottom": null,
       "display": null,
       "flex": null,
       "flex_flow": null,
       "grid_area": null,
       "grid_auto_columns": null,
       "grid_auto_flow": null,
       "grid_auto_rows": null,
       "grid_column": null,
       "grid_gap": null,
       "grid_row": null,
       "grid_template_areas": null,
       "grid_template_columns": null,
       "grid_template_rows": null,
       "height": null,
       "justify_content": null,
       "justify_items": null,
       "left": null,
       "margin": null,
       "max_height": null,
       "max_width": null,
       "min_height": null,
       "min_width": null,
       "object_fit": null,
       "object_position": null,
       "order": null,
       "overflow": null,
       "overflow_x": null,
       "overflow_y": null,
       "padding": null,
       "right": null,
       "top": null,
       "visibility": null,
       "width": null
      }
     },
     "e7114772ea964d2db917551d574e2cb0": {
      "model_module": "@jupyter-widgets/controls",
      "model_module_version": "1.5.0",
      "model_name": "ProgressStyleModel",
      "state": {
       "_model_module": "@jupyter-widgets/controls",
       "_model_module_version": "1.5.0",
       "_model_name": "ProgressStyleModel",
       "_view_count": null,
       "_view_module": "@jupyter-widgets/base",
       "_view_module_version": "1.2.0",
       "_view_name": "StyleView",
       "bar_color": null,
       "description_width": ""
      }
     },
     "e80b207c01e440f4a7e2f89c7ee9b49d": {
      "model_module": "@jupyter-widgets/controls",
      "model_module_version": "1.5.0",
      "model_name": "HTMLModel",
      "state": {
       "_dom_classes": [],
       "_model_module": "@jupyter-widgets/controls",
       "_model_module_version": "1.5.0",
       "_model_name": "HTMLModel",
       "_view_count": null,
       "_view_module": "@jupyter-widgets/controls",
       "_view_module_version": "1.5.0",
       "_view_name": "HTMLView",
       "description": "",
       "description_tooltip": null,
       "layout": "IPY_MODEL_d6f66d8b02744988945144775cc8826d",
       "placeholder": "​",
       "style": "IPY_MODEL_d79cc6edf4994fb7ba64dac2983ff9e8",
       "value": " 28.0/28.0 [00:00&lt;00:00, 1.01kB/s]"
      }
     },
     "f197166bed1e46be89e104177db87af6": {
      "model_module": "@jupyter-widgets/base",
      "model_module_version": "1.2.0",
      "model_name": "LayoutModel",
      "state": {
       "_model_module": "@jupyter-widgets/base",
       "_model_module_version": "1.2.0",
       "_model_name": "LayoutModel",
       "_view_count": null,
       "_view_module": "@jupyter-widgets/base",
       "_view_module_version": "1.2.0",
       "_view_name": "LayoutView",
       "align_content": null,
       "align_items": null,
       "align_self": null,
       "border": null,
       "bottom": null,
       "display": null,
       "flex": null,
       "flex_flow": null,
       "grid_area": null,
       "grid_auto_columns": null,
       "grid_auto_flow": null,
       "grid_auto_rows": null,
       "grid_column": null,
       "grid_gap": null,
       "grid_row": null,
       "grid_template_areas": null,
       "grid_template_columns": null,
       "grid_template_rows": null,
       "height": null,
       "justify_content": null,
       "justify_items": null,
       "left": null,
       "margin": null,
       "max_height": null,
       "max_width": null,
       "min_height": null,
       "min_width": null,
       "object_fit": null,
       "object_position": null,
       "order": null,
       "overflow": null,
       "overflow_x": null,
       "overflow_y": null,
       "padding": null,
       "right": null,
       "top": null,
       "visibility": null,
       "width": null
      }
     },
     "f236443817534eee96d3efc94b5bbe96": {
      "model_module": "@jupyter-widgets/controls",
      "model_module_version": "1.5.0",
      "model_name": "HTMLModel",
      "state": {
       "_dom_classes": [],
       "_model_module": "@jupyter-widgets/controls",
       "_model_module_version": "1.5.0",
       "_model_name": "HTMLModel",
       "_view_count": null,
       "_view_module": "@jupyter-widgets/controls",
       "_view_module_version": "1.5.0",
       "_view_name": "HTMLView",
       "description": "",
       "description_tooltip": null,
       "layout": "IPY_MODEL_b40c59b63787447a9eb881310fec1000",
       "placeholder": "​",
       "style": "IPY_MODEL_53c15b638f9a49b4bc294c8c8b3d2c33",
       "value": " 3/3 [03:46&lt;00:00, 75.32s/it]"
      }
     },
     "f7afcfb602a5451f8a5e3385dbeaa87a": {
      "model_module": "@jupyter-widgets/controls",
      "model_module_version": "1.5.0",
      "model_name": "HTMLModel",
      "state": {
       "_dom_classes": [],
       "_model_module": "@jupyter-widgets/controls",
       "_model_module_version": "1.5.0",
       "_model_name": "HTMLModel",
       "_view_count": null,
       "_view_module": "@jupyter-widgets/controls",
       "_view_module_version": "1.5.0",
       "_view_name": "HTMLView",
       "description": "",
       "description_tooltip": null,
       "layout": "IPY_MODEL_5c0f3196e310458ebe8dbebc7240490a",
       "placeholder": "​",
       "style": "IPY_MODEL_29c3b79b050943da9193d75ceb09dc50",
       "value": "Epoch: 100%"
      }
     },
     "fa1bab55101c44e78a2f14d99f1e6994": {
      "model_module": "@jupyter-widgets/base",
      "model_module_version": "1.2.0",
      "model_name": "LayoutModel",
      "state": {
       "_model_module": "@jupyter-widgets/base",
       "_model_module_version": "1.2.0",
       "_model_name": "LayoutModel",
       "_view_count": null,
       "_view_module": "@jupyter-widgets/base",
       "_view_module_version": "1.2.0",
       "_view_name": "LayoutView",
       "align_content": null,
       "align_items": null,
       "align_self": null,
       "border": null,
       "bottom": null,
       "display": null,
       "flex": null,
       "flex_flow": null,
       "grid_area": null,
       "grid_auto_columns": null,
       "grid_auto_flow": null,
       "grid_auto_rows": null,
       "grid_column": null,
       "grid_gap": null,
       "grid_row": null,
       "grid_template_areas": null,
       "grid_template_columns": null,
       "grid_template_rows": null,
       "height": null,
       "justify_content": null,
       "justify_items": null,
       "left": null,
       "margin": null,
       "max_height": null,
       "max_width": null,
       "min_height": null,
       "min_width": null,
       "object_fit": null,
       "object_position": null,
       "order": null,
       "overflow": null,
       "overflow_x": null,
       "overflow_y": null,
       "padding": null,
       "right": null,
       "top": null,
       "visibility": null,
       "width": null
      }
     }
    },
    "version_major": 2,
    "version_minor": 0
   }
  }
 },
 "nbformat": 4,
 "nbformat_minor": 5
}
